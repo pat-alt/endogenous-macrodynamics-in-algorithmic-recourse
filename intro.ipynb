{
  "cells": [
    {
      "cell_type": "markdown",
      "metadata": {},
      "source": [
        "# Introduction\n"
      ],
      "id": "7eb83709"
    },
    {
      "cell_type": "code",
      "metadata": {},
      "source": [
        "#| echo: false\n",
        "\n",
        "include(\"src/setup.jl\")\n",
        "eval(setup)\n",
        "output_path = output_dir(\"poc\") # output directory for artifacts\n",
        "www_path = www_dir(\"poc\")       # output directory for images"
      ],
      "id": "4ad25a05",
      "execution_count": null,
      "outputs": []
    },
    {
      "cell_type": "markdown",
      "metadata": {},
      "source": [
        "To start with, we will look at a proof-of-concept that demonstrates the main observation underlying that paper is framed around. In particular, we will use synthetic data to see how endogenous domain shifts and the resulting model shifts can have implications on the validity and cost of algorithmic recourse.\n",
        "\n",
        "## Data\n",
        "\n",
        "We begin by generating the synthetic data for a simple binary classification problem. For illustrative purposes we will use data that is linearly separable. The chart below shows the data $\\mathcal{D}$ at time zero, before any implementation of recourse.\n"
      ],
      "id": "a1cc4ca4"
    },
    {
      "cell_type": "code",
      "metadata": {},
      "source": [
        "#| output: true\n",
        "#| label: fig-data\n",
        "#| fig-cap: Linearly separable synthetic data\n",
        "\n",
        "N = 1000\n",
        "xmax = 2\n",
        "X, ys = make_blobs(\n",
        "    N, 2; \n",
        "    centers=2, as_table=false, center_box=(-xmax => xmax), cluster_std=0.1\n",
        ")\n",
        "ys .= ys.==2\n",
        "X = X'\n",
        "xs = Flux.unstack(X,2)\n",
        "data = zip(xs,ys)\n",
        "counterfactual_data = CounterfactualData(X,ys')\n",
        "plot()\n",
        "scatter!(counterfactual_data)"
      ],
      "id": "fig-data",
      "execution_count": null,
      "outputs": []
    },
    {
      "cell_type": "markdown",
      "metadata": {},
      "source": [
        "## Classifier \n",
        "\n",
        "To model this data $\\mathcal{D}$ we will use a linear classifier. In particular, as in the paper, we will build a logistic regression model in `Flux.jl`: a single layer with sigmoid activation. \n"
      ],
      "id": "d266bf15"
    },
    {
      "cell_type": "code",
      "metadata": {},
      "source": [
        "n_epochs = 100\n",
        "model = Chain(Dense(2,1))\n",
        "mod = FluxModel(model)\n",
        "Models.train(mod, counterfactual_data; n_epochs=n_epochs)"
      ],
      "id": "871ef978",
      "execution_count": null,
      "outputs": []
    },
    {
      "cell_type": "markdown",
      "metadata": {},
      "source": [
        "@fig-model below shows the linear separation of the two classes.\n"
      ],
      "id": "57885e57"
    },
    {
      "cell_type": "code",
      "metadata": {},
      "source": [
        "#| output: true\n",
        "#| label: fig-model\n",
        "#| fig-cap: 'The baseline model: contours indicate the predicted label; dots indicate observed data points.'\n",
        "\n",
        "plt_original = plot(mod, counterfactual_data; zoom=0, colorbar=false, title=\"(a)\")"
      ],
      "id": "fig-model",
      "execution_count": null,
      "outputs": []
    },
    {
      "cell_type": "markdown",
      "metadata": {},
      "source": [
        "## Implementation of Recourse\n",
        "\n",
        "## Generate counterfactual\n"
      ],
      "id": "0d5af264"
    },
    {
      "cell_type": "code",
      "metadata": {},
      "source": [
        "γ = 0.50\n",
        "μ = 0.10\n",
        "Markdown.parse(\n",
        "    \"\"\"\n",
        "    To generate counterfactual explanations we will rely on the most generic approach. As our decision threshold we will use $(γ*100)% here. In other words, the counterfactual is considered as valid, as soon as the classifier is more convinced that it belongs to the target class (blue) than the non-target class (orange). In each round we will implement recourse for $(μ * 100)% of the individuals in the non-target class. \n",
        "    \"\"\"\n",
        ")"
      ],
      "id": "1008a78f",
      "execution_count": null,
      "outputs": []
    },
    {
      "cell_type": "code",
      "metadata": {},
      "source": [
        "opt = Flux.Adam(0.01)\n",
        "gen = GenericGenerator(;decision_threshold=γ, opt=opt)"
      ],
      "id": "dd84eb79",
      "execution_count": null,
      "outputs": []
    },
    {
      "cell_type": "markdown",
      "metadata": {},
      "source": [
        "@fig-round-1 below shows the recourse outcome, which we denote here as $\\mathcal{D}^{\\prime}$. The obvious observation at this point is that the resulting counterfactuals, while valid, are clearly distinguishable from the factuals that were always in the target class. This is not a new observation and nor is it entirely surprising. In fact, a lot of recent work in this field has tried to address this issue. In this work we wonder what happens when we let these sorts of dynamics play out further in practice. While the outcome in (b) is not surprising, it may be much harder to observe so clearly it in practice (when the data is more complex).\n"
      ],
      "id": "0fa1836d"
    },
    {
      "cell_type": "code",
      "metadata": {},
      "source": [
        "#| output: true\n",
        "#| label: fig-round-1\n",
        "#| fig-cap: The recourse outcome after one round.\n",
        "\n",
        "candidates = findall(ys.==0)\n",
        "chosen_individuals = rand(candidates, Int(round(μ*length(candidates))))\n",
        "X′ = copy(X)\n",
        "y′ = copy(ys)\n",
        "factuals = select_factual(counterfactual_data,chosen_individuals)\n",
        "outcome = generate_counterfactual(factuals, 1, counterfactual_data, mod, gen; initialization=:identity)\n",
        "X′[:,chosen_individuals] = reduce(hcat, @.(selectdim(counterfactual(outcome), 3, 1)))\n",
        "y′[chosen_individuals] = reduce(vcat,@.(selectdim(counterfactual_label(outcome),3,1)))\n",
        "counterfactual_data′ = CounterfactualData(X′,y′')\n",
        "plt_single = plot(mod,counterfactual_data′;zoom=0,colorbar=false,title=\"(b)\")"
      ],
      "id": "fig-round-1",
      "execution_count": null,
      "outputs": []
    },
    {
      "cell_type": "markdown",
      "metadata": {},
      "source": [
        "## Retrain\n",
        "\n",
        "Suppose the agent in charge of the black-box system has provided recourse to a share of individuals leading to the outcome in @fig-round-1. In practice, models are regularly updated through retraining to account for concept drift, for example. For our experiments, we assume that the agent accepts $\\mathcal{D}^{\\prime}$ as its new ground truth. To isolate the endogenous effects we are interested in here from any other effect, we further assume away any exogenous changes to the data that we might expect to occur in practice. Retraining the model on $\\mathcal{D}^{\\prime}$ leads to a shift of the decision boundary **in the direction of the non-target class** (@fig-retrain). \n"
      ],
      "id": "f02cd795"
    },
    {
      "cell_type": "code",
      "metadata": {},
      "source": [
        "#| output: true\n",
        "#| label: fig-retrain\n",
        "#| fig-cap: The retrained model.\n",
        "\n",
        "mod = Models.train(mod, counterfactual_data′)\n",
        "plt_single_retrained = plot(mod,counterfactual_data′;zoom=0,colorbar=false,title=\"(c)\")"
      ],
      "id": "fig-retrain",
      "execution_count": null,
      "outputs": []
    },
    {
      "cell_type": "markdown",
      "metadata": {},
      "source": [
        "## Repeat\n",
        "\n",
        "We finally go on to repeat this process of recourse followed by model updates for multiple round. @fig-final below presents the different stages of the experiment side-by-side, where panel (d) represents the outcome after ten rounds. \n",
        "\n",
        "At first glance it seems that costs to individuals seeking recourse are gradually reduced as the decision boundary moves into the direction of the non-target class: they need to exert less effort to move to valid counterfactual states. The problem with this idea is, of course, that there is no free lunch. This reduction inflicts a burden on the agent in charge of the black-box: the group of individuals that is now classified as target class individuals looks entirely different from the original group. \n",
        "\n",
        "Why is this a problem? Let's, for example, that the two synthetic features accurately describe the credit worthiness of individual seeking loans, where credit-worthiness increases in the South-West direction. Non-target class individuals (orange) are denied credit, while target class individuals (blue) receive a loan. Then the population of borrowers in (d) is much more risky than in (a). Clearly, any lender (bank) aware of such dynamics would avoid them in practice. They might choose not to offer recourse in the first place, generating a cost to all individuals seeking recourse. Alternatively, they may reward first movers, but stop offering recourse after a few rounds. \n",
        "\n",
        "This last point makes it clear that the implementation of recourse by one individual may generate external costs for other individuals. This notion motivates the ideas set out in the paper.\n"
      ],
      "id": "570e9d94"
    },
    {
      "cell_type": "code",
      "metadata": {},
      "source": [
        "i = 2\n",
        "while i <= 10\n",
        "    counterfactual_data′ = CounterfactualData(X′,y′')\n",
        "    candidates = findall(y′.==0)\n",
        "    chosen_individuals = rand(candidates, Int(round(μ*length(candidates))))\n",
        "    Models.train(mod, counterfactual_data′)\n",
        "    factuals = select_factual(counterfactual_data′,chosen_individuals)\n",
        "    outcome = generate_counterfactual(factuals, 1, counterfactual_data′, mod, gen; initialization=:identity)\n",
        "    X′[:,chosen_individuals] = reduce(hcat, @.(selectdim(counterfactual(outcome), 3, 1)))\n",
        "    y′[chosen_individuals] = reduce(vcat,@.(selectdim(counterfactual_label(outcome),3,1)))\n",
        "    i += 1\n",
        "end\n",
        "plt_single_repeat = plot(mod,counterfactual_data′;zoom=0,colorbar=false,title=\"(d)\")"
      ],
      "id": "3163c64b",
      "execution_count": null,
      "outputs": []
    },
    {
      "cell_type": "code",
      "metadata": {},
      "source": [
        "#| output: true\n",
        "#| label: fig-final\n",
        "#| fig-cap: The different stages of the experiment.\n",
        "\n",
        "plt = plot(plt_original, plt_single, plt_single_retrained, plt_single_repeat, layout=(1,4), legend=false, axis=nothing, size=(600,165))\n",
        "savefig(plt, joinpath(www_path, \"poc.png\"))\n",
        "plt"
      ],
      "id": "fig-final",
      "execution_count": null,
      "outputs": []
    }
  ],
  "metadata": {
    "kernelspec": {
      "name": "julia-1.8",
      "language": "julia",
      "display_name": "Julia 1.8.3"
    }
  },
  "nbformat": 4,
  "nbformat_minor": 5
}