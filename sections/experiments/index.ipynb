{
  "cells": [
    {
      "cell_type": "raw",
      "metadata": {},
      "source": [
        "---\n",
        "title: Experimental Results\n",
        "---"
      ],
      "id": "a6f56388"
    },
    {
      "cell_type": "markdown",
      "metadata": {},
      "source": [
        "This is a supplementary appendix to the research paper **Endogenous Macrodynamics in Algorithmic Recourse**. It contains all of the experimental results, including those not highlighted in the actual paper. It also links to additional information about the proposed mitigation strategies.\n",
        "\n",
        "### Synthetic Data {#sec-app-synthetic}\n",
        "\n",
        "This notebook was used to run the experiments for the synthetic datasets and can be used to reproduce the results in the paper. In the following we first run the experiments and then generate visualizations and tables.\n",
        "\n",
        "#### Experiment\n"
      ],
      "id": "2a31b295"
    },
    {
      "cell_type": "code",
      "metadata": {},
      "source": [
        "#| echo: false\n",
        "\n",
        "include(\"src/setup.jl\")\n",
        "eval(setup)\n",
        "output_path = output_dir(\"synthetic\") # output directory for artifacts\n",
        "www_path = www_dir(\"synthetic\")       # output directory for images\n",
        "data_path = data_dir(\"synthetic\")"
      ],
      "id": "7a016035",
      "execution_count": null,
      "outputs": []
    },
    {
      "cell_type": "code",
      "metadata": {},
      "source": [
        "models = [\n",
        "    :LogisticRegression, \n",
        "    :FluxModel, \n",
        "    :FluxEnsemble,\n",
        "]\n",
        "generators = Dict(\n",
        "    :Greedy=>GreedyGenerator(), \n",
        "    :Generic=>GenericGenerator(),\n",
        "    :REVISE=>REVISEGenerator(),\n",
        "    :DICE=>DiCEGenerator(),\n",
        ")"
      ],
      "id": "aff2227f",
      "execution_count": null,
      "outputs": []
    },
    {
      "cell_type": "code",
      "metadata": {},
      "source": [
        "max_obs = 1000\n",
        "catalogue = load_synthetic(max_obs; data_dir=data_path)\n",
        "choices = [\n",
        "    :linearly_separable, \n",
        "    :overlapping, \n",
        "    :circles, \n",
        "    :moons,\n",
        "]\n",
        "data_sets = filter(p -> p[1] in choices, catalogue)"
      ],
      "id": "a6f45b9b",
      "execution_count": null,
      "outputs": []
    },
    {
      "cell_type": "code",
      "metadata": {},
      "source": [
        "experiments = set_up_experiments(data_sets,models,generators)"
      ],
      "id": "1c3cdec1",
      "execution_count": null,
      "outputs": []
    },
    {
      "cell_type": "markdown",
      "metadata": {},
      "source": [
        "@fig-test-before shows the test data before running the experiment.\n"
      ],
      "id": "5731d1dd"
    },
    {
      "cell_type": "code",
      "metadata": {},
      "source": [
        "#| label: fig-test-before\n",
        "#| fig-cap: Test data before experiment\n",
        "\n",
        "\n",
        "plts = []\n",
        "for (exp_name, exp_) in experiments\n",
        "    for (M_name, M) in exp_.models\n",
        "        score = round(model_evaluation(M, exp_.test_data),digits=2)\n",
        "        plt = plot(M, exp_.test_data, title=\"$exp_name;\\n $M_name ($score)\")\n",
        "        # Errors:\n",
        "        ids = findall(vec(round.(probs(M, exp_.test_data.X)) .!= exp_.test_data.y))\n",
        "        x_wrongly_labelled = exp_.test_data.X[:,ids]\n",
        "        scatter!(plt, x_wrongly_labelled[1,:], x_wrongly_labelled[2,:], ms=7.5, color=:red, label=\"\")\n",
        "        plts = vcat(plts..., plt)\n",
        "    end\n",
        "end\n",
        "plt = plot(plts..., layout=(length(choices),length(models)),size=(length(choices)*300,length(models)*300))\n",
        "savefig(plt, joinpath(www_path,\"models_test_before.png\"))\n",
        "plt"
      ],
      "id": "fig-test-before",
      "execution_count": null,
      "outputs": []
    },
    {
      "cell_type": "markdown",
      "metadata": {},
      "source": [
        "@fig-train-before shows the training data before running the experiment.\n"
      ],
      "id": "411429f4"
    },
    {
      "cell_type": "code",
      "metadata": {},
      "source": [
        "#| label: fig-train-before\n",
        "#| fig-cap: Training data before experiment\n",
        "\n",
        "\n",
        "using AlgorithmicRecourseDynamics.Models: model_evaluation\n",
        "plts = []\n",
        "for (exp_name, exp_) in experiments\n",
        "    for (M_name, M) in exp_.models\n",
        "        score = round(model_evaluation(M, exp_.train_data),digits=2)\n",
        "        plt = plot(M, exp_.train_data, title=\"$exp_name;\\n $M_name ($score)\")\n",
        "        # Errors:\n",
        "        ids = findall(vec(round.(probs(M, exp_.train_data.X)) .!= exp_.train_data.y))\n",
        "        x_wrongly_labelled = exp_.train_data.X[:,ids]\n",
        "        scatter!(plt, x_wrongly_labelled[1,:], x_wrongly_labelled[2,:], ms=7.5, color=:red, label=\"\")\n",
        "        plts = vcat(plts..., plt)\n",
        "    end\n",
        "end\n",
        "plt = plot(plts..., layout=(length(choices),length(models)),size=(length(choices)*300,length(models)*300))\n",
        "savefig(plt, joinpath(www_path,\"models_train_before.png\"))\n",
        "plt"
      ],
      "id": "fig-train-before",
      "execution_count": null,
      "outputs": []
    },
    {
      "cell_type": "code",
      "metadata": {},
      "source": [
        "n_evals = 5\n",
        "n_rounds = 50\n",
        "evaluate_every = Int(round(n_rounds/n_evals))\n",
        "n_folds = 5\n",
        "T = 100\n",
        "results = run_experiments(\n",
        "    experiments;\n",
        "    save_path=output_path,evaluate_every=evaluate_every,n_rounds=n_rounds, n_folds=n_folds, T=T\n",
        ")\n",
        "Serialization.serialize(joinpath(output_path,\"results.jls\"),results)"
      ],
      "id": "1f26ea12",
      "execution_count": null,
      "outputs": []
    },
    {
      "cell_type": "code",
      "metadata": {},
      "source": [
        "plot_dict = Dict(key => Dict() for (key,val) in results)\n",
        "fold = 1\n",
        "for (name, res) in results\n",
        "    exp_ = res.experiment\n",
        "    plot_dict[name] = Dict(key => [] for (key,val) in exp_.generators)\n",
        "    rec_sys = exp_.recourse_systems[fold]\n",
        "    sys_ids = collect(exp_.system_identifiers)\n",
        "    M = length(rec_sys)\n",
        "    for m in 1:M\n",
        "        model_name, generator_name = sys_ids[m]\n",
        "        M = rec_sys[m].model\n",
        "        score = round(model_evaluation(M, exp_.test_data),digits=2)\n",
        "        plt = plot(M, exp_.test_data, title=\"$name;\\n $model_name ($score)\")\n",
        "        # Errors:\n",
        "        ids = findall(vec(round.(probs(M, exp_.test_data.X)) .!= exp_.test_data.y))\n",
        "        x_wrongly_labelled = exp_.test_data.X[:,ids]\n",
        "        scatter!(plt, x_wrongly_labelled[1,:], x_wrongly_labelled[2,:], ms=7.5, color=:red, label=\"\")\n",
        "        plot_dict[name][generator_name] = vcat(plot_dict[name][generator_name], plt)\n",
        "    end\n",
        "end\n",
        "plot_dict = Dict(key => reduce(vcat, [plots[key] for plots in values(plot_dict)]) for (key, value) in generators)\n",
        "for (name, plts) in plot_dict\n",
        "    plt = plot(plts..., layout=(length(choices),length(models)),size=(length(choices)*300,length(models)*300))\n",
        "    savefig(plt, joinpath(www_path,\"models_test_after_$(name).png\"))\n",
        "end"
      ],
      "id": "6f1f1d6f",
      "execution_count": null,
      "outputs": []
    },
    {
      "cell_type": "markdown",
      "metadata": {},
      "source": [
        "@fig-test-after shows the test data after running the experiment.\n"
      ],
      "id": "8575f9d0"
    },
    {
      "cell_type": "code",
      "metadata": {},
      "source": [
        "#| fig-cap: Test data after experiment\n",
        "#| fig-subcap:\n",
        "#|   - DICE\n",
        "#|   - Generic\n",
        "#|   - Greedy\n",
        "#|   - Latent\n",
        "#| layout-ncol: 1\n",
        "#| label: fig-test-after\n",
        "#| output: true\n",
        "\n",
        "img_files = readdir(www_path)[contains.(readdir(www_path),\"models_test_after\")]\n",
        "img_files = joinpath.(www_path,img_files)\n",
        "for img in img_files\n",
        "    display(Images.load(img))\n",
        "end"
      ],
      "id": "fig-test-after",
      "execution_count": null,
      "outputs": []
    },
    {
      "cell_type": "code",
      "metadata": {},
      "source": [
        "using AlgorithmicRecourseDynamics.Models: model_evaluation\n",
        "plot_dict = Dict(key => Dict() for (key,val) in results)\n",
        "fold = 1\n",
        "for (name, res) in results\n",
        "    exp_ = res.experiment\n",
        "    plot_dict[name] = Dict(key => [] for (key,val) in exp_.generators)\n",
        "    rec_sys = exp_.recourse_systems[fold]\n",
        "    sys_ids = collect(exp_.system_identifiers)\n",
        "    M = length(rec_sys)\n",
        "    for m in 1:M\n",
        "        model_name, generator_name = sys_ids[m]\n",
        "        M = rec_sys[m].model\n",
        "        data = rec_sys[m].data\n",
        "        score = round(model_evaluation(M, data),digits=2)\n",
        "        plt = plot(M, data, title=\"$name;\\n $model_name ($score)\")\n",
        "        # Errors:\n",
        "        ids = findall(vec(round.(probs(M, data.X)) .!= data.y))\n",
        "        x_wrongly_labelled = data.X[:,ids]\n",
        "        scatter!(plt, x_wrongly_labelled[1,:], x_wrongly_labelled[2,:], ms=7.5, color=:red, label=\"\")\n",
        "        plot_dict[name][generator_name] = vcat(plot_dict[name][generator_name], plt)\n",
        "    end\n",
        "end\n",
        "plot_dict = Dict(key => reduce(vcat, [plots[key] for plots in values(plot_dict)]) for (key, value) in generators)\n",
        "for (name, plts) in plot_dict\n",
        "    plt = plot(plts..., layout=(length(choices),length(models)),size=(length(choices)*300,length(models)*300))\n",
        "    savefig(plt, joinpath(www_path,\"models_train_after_$(name).png\"))\n",
        "end"
      ],
      "id": "1dbf9d68",
      "execution_count": null,
      "outputs": []
    },
    {
      "cell_type": "markdown",
      "metadata": {},
      "source": [
        "@fig-train-after shows the training data after running the experiment.\n"
      ],
      "id": "1ad2b008"
    },
    {
      "cell_type": "code",
      "metadata": {},
      "source": [
        "#| fig-cap: Training data after experiment\n",
        "#| fig-subcap:\n",
        "#|   - DICE\n",
        "#|   - Generic\n",
        "#|   - Greedy\n",
        "#|   - Latent\n",
        "#| layout-ncol: 1\n",
        "#| label: fig-train-after\n",
        "img_files = readdir(www_path)[contains.(readdir(www_path),\"models_train_after\")]\n",
        "img_files = joinpath.(www_path,img_files)\n",
        "for img in img_files\n",
        "    display(Images.load(img))\n",
        "end"
      ],
      "id": "fig-train-after",
      "execution_count": null,
      "outputs": []
    },
    {
      "cell_type": "markdown",
      "metadata": {},
      "source": [
        "#### Plots\n"
      ],
      "id": "1b20a53e"
    },
    {
      "cell_type": "code",
      "metadata": {},
      "source": [
        "results = Serialization.deserialize(joinpath(output_path,\"results.jls\"));"
      ],
      "id": "61ba81dc",
      "execution_count": null,
      "outputs": []
    },
    {
      "cell_type": "code",
      "metadata": {},
      "source": [
        "using Images\n",
        "line_charts = Dict()\n",
        "errorbar_charts = Dict()\n",
        "for (data_name, res) in results\n",
        "    plt = plot(res)\n",
        "    Images.save(joinpath(www_path, \"line_chart_$(data_name).png\"), plt)\n",
        "    line_charts[data_name] = plt\n",
        "    plt = plot(res,maximum(res.output.n))\n",
        "    Images.save(joinpath(www_path, \"errorbar_chart_$(data_name).png\"), plt)\n",
        "    errorbar_charts[data_name] = plt\n",
        "end"
      ],
      "id": "b3e8131c",
      "execution_count": null,
      "outputs": []
    },
    {
      "cell_type": "markdown",
      "metadata": {},
      "source": [
        "##### Line Charts\n",
        "\n",
        "@fig-line shows the evolution of the evaluation metrics over the course of the experiment.\n"
      ],
      "id": "8169ed6a"
    },
    {
      "cell_type": "code",
      "metadata": {},
      "source": [
        "#| output: true\n",
        "#| fig-cap: Line Charts\n",
        "#| fig-subcap:\n",
        "#|   - Circles\n",
        "#|   - Linearly Separable\n",
        "#|   - Moons\n",
        "#|   - Overlapping\n",
        "#| layout-ncol: 1\n",
        "#| label: fig-line\n",
        "img_files = readdir(www_path)[contains.(readdir(www_path),\"line_chart\")]\n",
        "img_files = joinpath.(www_path,img_files)\n",
        "for img in img_files\n",
        "    display(Images.load(img))\n",
        "end"
      ],
      "id": "fig-line",
      "execution_count": null,
      "outputs": []
    },
    {
      "cell_type": "markdown",
      "metadata": {},
      "source": [
        "##### Error Bar Charts\n",
        "\n",
        "@fig-error shows the evaluation metrics at the end of the experiments.\n"
      ],
      "id": "b3412de9"
    },
    {
      "cell_type": "code",
      "metadata": {},
      "source": [
        "#| output: true\n",
        "#| fig-cap: Error Bar Charts\n",
        "#| fig-subcap:\n",
        "#|   - Circles\n",
        "#|   - Linearly Separable\n",
        "#|   - Moons\n",
        "#|   - Overlapping\n",
        "#| layout-ncol: 1\n",
        "#| label: fig-error\n",
        "img_files = readdir(www_path)[contains.(readdir(www_path),\"errorbar_chart\")]\n",
        "img_files = joinpath.(www_path,img_files)\n",
        "for img in img_files\n",
        "    display(Images.load(img))\n",
        "end"
      ],
      "id": "fig-error",
      "execution_count": null,
      "outputs": []
    },
    {
      "cell_type": "markdown",
      "metadata": {},
      "source": [
        "#### Bootstrap\n"
      ],
      "id": "e5bccd4f"
    },
    {
      "cell_type": "code",
      "metadata": {},
      "source": [
        "n_bootstrap = 10\n",
        "df = run_bootstrap(results, n_bootstrap; filename=joinpath(output_path,\"bootstrap.csv\"))"
      ],
      "id": "494b5392",
      "execution_count": null,
      "outputs": []
    },
    {
      "cell_type": "markdown",
      "metadata": {},
      "source": [
        "#### Chart in paper {#sec-app-synthetic-paper}\n",
        "\n",
        "@fig-paper shows the chart that went into the paper.\n"
      ],
      "id": "85dba619"
    },
    {
      "cell_type": "code",
      "metadata": {},
      "source": [
        "using DataFrames, Statistics\n",
        "df = results[:overlapping].output\n",
        "df = df[[x ∈ maximum(df.n) for x in df.n],:]\n",
        "gdf = groupby(df, [:generator, :model, :n, :name, :scope])\n",
        "df_plot = combine(gdf, :value => (x -> [(mean(x),mean(x)+std(x),mean(x)-std(x))]) => [:mean, :ymax, :ymin])\n",
        "df_plot = df_plot[[name in [:decisiveness, :disagreement, :mmd, :mmd_grid, :model_performance] for name in df_plot.name],:]\n",
        "df_plot = df_plot[.!(df_plot.name.==:mmd .&& df_plot.scope.==:model),:]\n",
        "df_plot = mapcols(x -> typeof(x) == Vector{Symbol} ? string.(x) : x, df_plot)\n",
        "transform!(df_plot, :name => (X -> [x==\"decisiveness\" ? \"Decisiveness\" : x for x in X]) => :name)\n",
        "transform!(df_plot, :name => (X -> [x==\"disagreement\" ? \"Disagreement\" : x for x in X]) => :name)\n",
        "transform!(df_plot, :name => (X -> [x==\"mmd\" ? \"MMD (domain)\" : x for x in X]) => :name)\n",
        "transform!(df_plot, :name => (X -> [x==\"mmd_grid\" ? \"MMD (model)\" : x for x in X]) => :name)\n",
        "transform!(df_plot, :name => (X -> [x==\"model_performance\" ? \"Performance\" : x for x in X]) => :name)\n",
        "transform!(df_plot, :generator => (X -> [x==\"REVISE\" ? \"Latent\" : x for x in X]) => :generator)\n",
        "transform!(df_plot, :model => (X -> [x==\"FluxEnsemble\" ? \"Deep Ensemble\" : x for x in X]) => :model)\n",
        "transform!(df_plot, :model => (X -> [x==\"FluxModel\" ? \"MLP\" : x for x in X]) => :model)\n",
        "transform!(df_plot, :model => (X -> [x==\"LogisticRegression\" ? \"Linear\" : x for x in X]) => :model)\n",
        "\n",
        "ncol = length(unique(df_plot.model))\n",
        "nrow = length(unique(df_plot.name))\n",
        "\n",
        "scale_ = 1.5\n",
        "R\"\"\"\n",
        "library(data.table)\n",
        "df_plot <- data.table($df_plot)\n",
        "name_order <- c(\n",
        "    \"MMD (domain)\",\n",
        "    \"MMD (model)\",\n",
        "    \"Performance\",\n",
        "    \"Disagreement\",\n",
        "    \"Decisiveness\"\n",
        ")\n",
        "df_plot[,name:=factor(name, levels=name_order)]\n",
        "model_order <- c(\"Linear\", \"MLP\", \"Deep Ensemble\")\n",
        "df_plot[,model:=factor(model, levels=model_order)]\n",
        "library(ggplot2)\n",
        "plt <- ggplot(df_plot) +\n",
        "    geom_bar(aes(x=n, y=mean, fill=generator), stat=\"identity\", alpha=0.5, position=\"dodge\") +\n",
        "    geom_pointrange(aes(x=n, y=mean, ymin=ymin, ymax=ymax, colour=generator), alpha=0.9, position=position_dodge(width=c(0.9,0.9)), size=0.5) +\n",
        "    facet_grid(\n",
        "        rows = vars(name),\n",
        "        cols =  vars(model), \n",
        "        scales = \"free_y\"\n",
        "    ) +\n",
        "    labs(y = \"Value\") + \n",
        "    scale_fill_discrete(name=\"Generator:\") +\n",
        "    scale_colour_discrete(name=\"Generator:\") +\n",
        "    theme(\n",
        "        axis.title.x=element_blank(),\n",
        "        axis.text.x=element_blank(),\n",
        "        axis.ticks.x=element_blank(),\n",
        "        legend.position=\"bottom\"\n",
        "    )\n",
        "temp_path <- file.path(tempdir(), \"plot.png\")\n",
        "ggsave(temp_path, width=$ncol * $scale_,height=$nrow * $scale_ * 0.75) \n",
        "\"\"\"\n",
        "\n",
        "img = Images.load(rcopy(R\"temp_path\"))\n",
        "Images.save(joinpath(www_path,\"paper_synthetic_results.png\"), img)"
      ],
      "id": "9f5152bd",
      "execution_count": null,
      "outputs": []
    },
    {
      "cell_type": "code",
      "metadata": {},
      "source": [
        "#| label: fig-paper\n",
        "#| fig-cap: Chart in paper\n",
        "\n",
        "Images.load(joinpath(www_path,\"paper_synthetic_results.png\"))"
      ],
      "id": "fig-paper",
      "execution_count": null,
      "outputs": []
    },
    {
      "cell_type": "markdown",
      "metadata": {},
      "source": [
        "### Real-World Data\n"
      ],
      "id": "0ea0f103"
    },
    {
      "cell_type": "code",
      "metadata": {},
      "source": [
        "#| echo: false\n",
        "\n",
        "include(\"src/setup.jl\")\n",
        "eval(setup)\n",
        "output_path = output_dir(\"real_world\")\n",
        "www_path = www_dir(\"real_world\")"
      ],
      "id": "59899c6f",
      "execution_count": null,
      "outputs": []
    },
    {
      "cell_type": "code",
      "metadata": {},
      "source": [
        "models = [\n",
        "    :LogisticRegression, \n",
        "    :FluxModel, \n",
        "    :FluxEnsemble\n",
        "]\n",
        "generators = Dict(\n",
        "    :Greedy=>GreedyGenerator(), \n",
        "    :Generic=>GenericGenerator(),\n",
        "    :REVISE=>REVISEGenerator(),\n",
        "    :DICE=>DiCEGenerator(),\n",
        ")"
      ],
      "id": "55a18450",
      "execution_count": null,
      "outputs": []
    },
    {
      "cell_type": "code",
      "metadata": {},
      "source": [
        "max_obs = 2500\n",
        "data_sets = load_real_world(max_obs)\n",
        "choices = [\n",
        "    # :cal_housing, \n",
        "    # :credit_default, \n",
        "    :gmsc, \n",
        "]\n",
        "data_sets = filter(p -> p[1] in choices, data_sets)"
      ],
      "id": "1dd2920d",
      "execution_count": null,
      "outputs": []
    },
    {
      "cell_type": "code",
      "metadata": {},
      "source": [
        "using CounterfactualExplanations.DataPreprocessing: unpack\n",
        "bs = 500\n",
        "function data_loader(data::CounterfactualData)\n",
        "    X, y = unpack(data)\n",
        "    data = Flux.DataLoader((X,y),batchsize=bs)\n",
        "    return data\n",
        "end\n",
        "model_params = (batch_norm=false,n_hidden=64,n_layers=3,dropout=true,p_dropout=0.1)"
      ],
      "id": "f5b59b27",
      "execution_count": null,
      "outputs": []
    },
    {
      "cell_type": "code",
      "metadata": {},
      "source": [
        "experiments = set_up_experiments(\n",
        "    data_sets,models,generators; \n",
        "    pre_train_models=100, model_params=model_params, \n",
        "    data_loader=data_loader\n",
        ")"
      ],
      "id": "e6c95180",
      "execution_count": null,
      "outputs": []
    },
    {
      "cell_type": "markdown",
      "metadata": {},
      "source": [
        "#### Experiment\n"
      ],
      "id": "b6eb3587"
    },
    {
      "cell_type": "code",
      "metadata": {},
      "source": [
        "n_evals = 5\n",
        "n_rounds = 50\n",
        "evaluate_every = Int(round(n_rounds/n_evals))\n",
        "n_folds = 5\n",
        "n_samples = 10000\n",
        "T = 100\n",
        "generative_model_params = (epochs=250, latent_dim=8)\n",
        "results = run_experiments(\n",
        "    experiments;\n",
        "    save_path=output_path,evaluate_every=evaluate_every,n_rounds=n_rounds, n_folds=n_folds, T=T, n_samples=n_samples,\n",
        "    generative_model_params=generative_model_params\n",
        ")\n",
        "Serialization.serialize(joinpath(output_path,\"results.jls\"),results)"
      ],
      "id": "5e86608d",
      "execution_count": null,
      "outputs": []
    },
    {
      "cell_type": "markdown",
      "metadata": {},
      "source": [
        "#### Plots\n"
      ],
      "id": "ae53cf61"
    },
    {
      "cell_type": "code",
      "metadata": {},
      "source": [
        "results = Serialization.deserialize(joinpath(output_path,\"results.jls\"))"
      ],
      "id": "f8803111",
      "execution_count": null,
      "outputs": []
    },
    {
      "cell_type": "code",
      "metadata": {},
      "source": [
        "using Images\n",
        "line_charts = Dict()\n",
        "errorbar_charts = Dict()\n",
        "for (data_name, res) in results\n",
        "    plt = plot(res)\n",
        "    Images.save(joinpath(www_path, \"line_chart_$(data_name).png\"), plt)\n",
        "    line_charts[data_name] = plt\n",
        "    plt = plot(res,maximum(res.output.n))\n",
        "    Images.save(joinpath(www_path, \"errorbar_chart_$(data_name).png\"), plt)\n",
        "    errorbar_charts[data_name] = plt\n",
        "end"
      ],
      "id": "ff5fe1cf",
      "execution_count": null,
      "outputs": []
    },
    {
      "cell_type": "markdown",
      "metadata": {},
      "source": [
        "##### Line Charts\n",
        "\n",
        "@fig-real-line shows the evolution of the evaluation metrics over the course of the experiment.\n"
      ],
      "id": "ddd5871e"
    },
    {
      "cell_type": "code",
      "metadata": {},
      "source": [
        "#| fig-cap: Line Charts\n",
        "#| fig-subcap:\n",
        "#|   - California Housing\n",
        "#|   - Credit Default\n",
        "#|   - GMSC\n",
        "#| layout-ncol: 1\n",
        "#| label: fig-real-line\n",
        "img_files = readdir(www_path)[contains.(readdir(www_path),\"line_chart\")]\n",
        "img_files = joinpath.(www_path,img_files)\n",
        "for img in img_files\n",
        "    display(load(img))\n",
        "end"
      ],
      "id": "fig-real-line",
      "execution_count": null,
      "outputs": []
    },
    {
      "cell_type": "markdown",
      "metadata": {},
      "source": [
        "##### Error Bar Charts\n",
        "\n",
        "@fig-real-error shows the evaluation metrics at the end of the experiments.\n"
      ],
      "id": "66cf0aa4"
    },
    {
      "cell_type": "code",
      "metadata": {},
      "source": [
        "#| fig-cap: Error Bar Charts\n",
        "#| fig-subcap:\n",
        "#|   - California Housing\n",
        "#|   - Credit Default\n",
        "#|   - GMSC\n",
        "#| layout-ncol: 1\n",
        "#| label: fig-real-error\n",
        "img_files = readdir(www_path)[contains.(readdir(www_path),\"errorbar_chart\")]\n",
        "img_files = joinpath.(www_path,img_files)\n",
        "for img in img_files\n",
        "    display(load(img))\n",
        "end"
      ],
      "id": "fig-real-error",
      "execution_count": null,
      "outputs": []
    },
    {
      "cell_type": "markdown",
      "metadata": {},
      "source": [
        "#### Bootstrap\n"
      ],
      "id": "f31cc0aa"
    },
    {
      "cell_type": "code",
      "metadata": {},
      "source": [
        "n_bootstrap = 10\n",
        "df = run_bootstrap(results, n_bootstrap; filename=joinpath(output_path,\"bootstrap.csv\"))"
      ],
      "id": "e1d1e3fb",
      "execution_count": null,
      "outputs": []
    },
    {
      "cell_type": "markdown",
      "metadata": {},
      "source": [
        "#### Chart in paper\n",
        "\n",
        "@fig-real-paper shows the chart that went into the paper.\n"
      ],
      "id": "b9cb53f0"
    },
    {
      "cell_type": "code",
      "metadata": {},
      "source": [
        "using DataFrames, Statistics\n",
        "model_ = :FluxEnsemble\n",
        "df = DataFrame() \n",
        "for (key, val) in results\n",
        "    df_ = deepcopy(val.output)\n",
        "    df_.dataset .= key\n",
        "    df = vcat(df,df_)\n",
        "end\n",
        "df = df[df.n .== maximum(df.n),:]\n",
        "df = df[df.model .== model_,:]\n",
        "filter!(:value => x -> !any(f -> f(x), (ismissing, isnothing, isnan)), df)\n",
        "gdf = groupby(df, [:generator, :dataset, :n, :name, :scope])\n",
        "df_plot = combine(gdf, :value => (x -> [(mean(x),mean(x)+std(x),mean(x)-std(x))]) => [:mean, :ymax, :ymin])\n",
        "df_plot = df_plot[[name in [:mmd, :model_performance] for name in df_plot.name],:]\n",
        "df_plot = mapcols(x -> typeof(x) == Vector{Symbol} ? string.(x) : x, df_plot)\n",
        "df_plot.name .= [r[:name] == \"mmd\" ? \"$(r[:name])_$(r[:scope])\" : r[:name] for r in eachrow(df_plot)]\n",
        "transform!(df_plot, :dataset => (X -> [x==\"cal_housing\" ? \"California Housing\" : x for x in X]) => :dataset)\n",
        "transform!(df_plot, :dataset => (X -> [x==\"credit_default\" ? \"Credit Default\" : x for x in X]) => :dataset)\n",
        "transform!(df_plot, :dataset => (X -> [x==\"gmsc\" ? \"GMSC\" : x for x in X]) => :dataset)\n",
        "transform!(df_plot, :name => (X -> [x==\"mmd_domain\" ? \"MMD (domain)\" : x for x in X]) => :name)\n",
        "transform!(df_plot, :name => (X -> [x==\"mmd_model\" ? \"MMD (model)\" : x for x in X]) => :name)\n",
        "transform!(df_plot, :name => (X -> [x==\"model_performance\" ? \"Performance\" : x for x in X]) => :name)\n",
        "transform!(df_plot, :generator => (X -> [x==\"REVISE\" ? \"Latent\" : x for x in X]) => :generator)\n",
        "\n",
        "ncol = length(unique(df_plot.dataset))\n",
        "nrow = length(unique(df_plot.name))\n",
        "\n",
        "using RCall\n",
        "scale_ = 1.75\n",
        "R\"\"\"\n",
        "library(ggplot2)\n",
        "plt <- ggplot($df_plot) +\n",
        "    geom_bar(aes(x=n, y=mean, fill=generator), stat=\"identity\", alpha=0.5, position=\"dodge\") +\n",
        "    geom_pointrange( aes(x=n, y=mean, ymin=ymin, ymax=ymax, colour=generator), alpha=0.9, position=position_dodge(width=0.9), size=0.5) +\n",
        "    facet_grid(\n",
        "        rows = vars(name),\n",
        "        cols =  vars(dataset), \n",
        "        scales = \"free_y\"\n",
        "    ) +\n",
        "    labs(y = \"Value\") + \n",
        "    scale_fill_discrete(name=\"Generator:\") +\n",
        "    scale_colour_discrete(name=\"Generator:\") +\n",
        "    theme(\n",
        "        axis.title.x=element_blank(),\n",
        "        axis.text.x=element_blank(),\n",
        "        axis.ticks.x=element_blank(),\n",
        "        legend.position=\"bottom\"\n",
        "    )\n",
        "temp_path <- file.path(tempdir(), \"plot.png\")\n",
        "ggsave(temp_path,width=$ncol * $scale_,height=$nrow * $scale_ * 0.8) \n",
        "\"\"\"\n",
        "\n",
        "img = Images.load(rcopy(R\"temp_path\"))\n",
        "Images.save(joinpath(www_path,\"paper_real_world_results.png\"), img)"
      ],
      "id": "b8495e67",
      "execution_count": null,
      "outputs": []
    },
    {
      "cell_type": "code",
      "metadata": {},
      "source": [
        "#| label: fig-real-paper\n",
        "#| fig-cap: Chart in paper\n",
        "\n",
        "Images.load(joinpath(www_path,\"paper_real_world_results.png\"))"
      ],
      "id": "fig-real-paper",
      "execution_count": null,
      "outputs": []
    },
    {
      "cell_type": "markdown",
      "metadata": {},
      "source": [
        "### Mitigation Strategies\n"
      ],
      "id": "110526a3"
    },
    {
      "cell_type": "code",
      "metadata": {},
      "source": [
        "#| echo: false\n",
        "\n",
        "include(\"src/setup.jl\")\n",
        "eval(setup)\n",
        "output_path = output_dir(\"mitigation_strategies\")\n",
        "www_path = www_dir(\"mitigation_strategies\")"
      ],
      "id": "90f41d18",
      "execution_count": null,
      "outputs": []
    },
    {
      "cell_type": "code",
      "metadata": {},
      "source": [
        "models = [\n",
        "    :LogisticRegression, \n",
        "    :FluxModel, \n",
        "    :FluxEnsemble,\n",
        "]\n",
        "generators = Dict(\n",
        "    :Generic=>GenericGenerator(decision_threshold=0.5),\n",
        "    :Latent=>REVISEGenerator(),\n",
        "    :Generic_conservative=>GenericGenerator(decision_threshold=0.9),\n",
        "    :Gravitational=>GravitationalGenerator(),\n",
        "    :ClapROAR=>ClapROARGenerator()\n",
        ")"
      ],
      "id": "b26aa3fa",
      "execution_count": null,
      "outputs": []
    },
    {
      "cell_type": "markdown",
      "metadata": {},
      "source": [
        "#### Synthetic\n"
      ],
      "id": "ec8a5dee"
    },
    {
      "cell_type": "code",
      "metadata": {},
      "source": [
        "max_obs = 1000\n",
        "catalogue = AlgorithmicRecourseDynamics.Data.load_synthetic(max_obs)\n",
        "choices = [\n",
        "    :linearly_separable, \n",
        "    :overlapping, \n",
        "    :circles, \n",
        "    :moons,\n",
        "]\n",
        "data_sets = filter(p -> p[1] in choices, catalogue)"
      ],
      "id": "cd731f03",
      "execution_count": null,
      "outputs": []
    },
    {
      "cell_type": "code",
      "metadata": {},
      "source": [
        "experiments = set_up_experiments(data_sets,models,generators)"
      ],
      "id": "7b9d5f96",
      "execution_count": null,
      "outputs": []
    },
    {
      "cell_type": "code",
      "metadata": {},
      "source": [
        "n_evals = 5\n",
        "n_rounds = 50\n",
        "evaluate_every = Int(round(n_rounds/n_evals))\n",
        "n_folds = 5\n",
        "T = 100\n",
        "using Serialization\n",
        "results = run_experiments(\n",
        "    experiments;\n",
        "    save_path=output_path,evaluate_every=evaluate_every,n_rounds=n_rounds, n_folds=n_folds, T=T\n",
        ")\n",
        "Serialization.serialize(joinpath(output_path,\"results_synthetic.jls\"),results)"
      ],
      "id": "7e016337",
      "execution_count": null,
      "outputs": []
    },
    {
      "cell_type": "markdown",
      "metadata": {},
      "source": [
        "#### Plots\n"
      ],
      "id": "34c7c4ee"
    },
    {
      "cell_type": "code",
      "metadata": {},
      "source": [
        "using Serialization\n",
        "results = Serialization.deserialize(joinpath(output_path,\"results_synthetic.jls\"))"
      ],
      "id": "69e9cfcd",
      "execution_count": null,
      "outputs": []
    },
    {
      "cell_type": "code",
      "metadata": {},
      "source": [
        "using Images\n",
        "line_charts = Dict()\n",
        "errorbar_charts = Dict()\n",
        "for (data_name, res) in results\n",
        "    plt = plot(res)\n",
        "    Images.save(joinpath(www_path, \"line_chart_$(data_name).png\"), plt)\n",
        "    line_charts[data_name] = plt\n",
        "    plt = plot(res,maximum(res.output.n))\n",
        "    Images.save(joinpath(www_path, \"errorbar_chart_$(data_name).png\"), plt)\n",
        "    errorbar_charts[data_name] = plt\n",
        "end"
      ],
      "id": "0ca210da",
      "execution_count": null,
      "outputs": []
    },
    {
      "cell_type": "markdown",
      "metadata": {},
      "source": [
        "##### Line Charts\n",
        "\n",
        "@fig-mit-line shows the evolution of the evaluation metrics over the course of the experiment.\n"
      ],
      "id": "09a5b85b"
    },
    {
      "cell_type": "code",
      "metadata": {},
      "source": [
        "#| fig-cap: Line Charts\n",
        "#| fig-subcap:\n",
        "#|   - California Housing\n",
        "#|   - Circles\n",
        "#|   - Credit Default\n",
        "#|   - GMSC\n",
        "#|   - Linearly Separable\n",
        "#|   - Moons\n",
        "#|   - Overlapping\n",
        "#| layout-ncol: 1\n",
        "#| label: fig-mit-line\n",
        "img_files = readdir(www_path)[contains.(readdir(www_path),\"line_chart\") .&& .!contains.(readdir(www_path),\"latent\")]\n",
        "img_files = joinpath.(www_path,img_files)\n",
        "for img in img_files\n",
        "    display(load(img))\n",
        "end"
      ],
      "id": "fig-mit-line",
      "execution_count": null,
      "outputs": []
    },
    {
      "cell_type": "markdown",
      "metadata": {},
      "source": [
        "##### Error Bar Charts\n",
        "\n",
        "@fig-mit-error shows the evaluation metrics at the end of the experiments.\n"
      ],
      "id": "883fcfbc"
    },
    {
      "cell_type": "code",
      "metadata": {},
      "source": [
        "#| fig-cap: Error Bar Charts\n",
        "#| fig-subcap:\n",
        "#|   - California Housing\n",
        "#|   - Circles\n",
        "#|   - Credit Default\n",
        "#|   - GMSC\n",
        "#|   - Linearly Separable\n",
        "#|   - Moons\n",
        "#|   - Overlapping\n",
        "#| layout-ncol: 1\n",
        "#| label: fig-mit-error\n",
        "img_files = readdir(www_path)[contains.(readdir(www_path),\"errorbar_chart\") .&& .!contains.(readdir(www_path),\"latent\")]\n",
        "img_files = joinpath.(www_path,img_files)\n",
        "for img in img_files\n",
        "    display(load(img))\n",
        "end"
      ],
      "id": "fig-mit-error",
      "execution_count": null,
      "outputs": []
    },
    {
      "cell_type": "markdown",
      "metadata": {},
      "source": [
        "#### Bootstrap\n"
      ],
      "id": "b4ad50cf"
    },
    {
      "cell_type": "code",
      "metadata": {},
      "source": [
        "n_bootstrap = 10\n",
        "df = run_bootstrap(results, n_bootstrap; filename=joinpath(output_path,\"bootstrap_synthetic.csv\"))"
      ],
      "id": "f55752c9",
      "execution_count": null,
      "outputs": []
    },
    {
      "cell_type": "markdown",
      "metadata": {},
      "source": [
        "#### Chart in paper\n",
        "\n",
        "@fig-mit-paper shows the chart that went into the paper.\n"
      ],
      "id": "d2e77aa7"
    },
    {
      "cell_type": "code",
      "metadata": {},
      "source": [
        "using DataFrames, Statistics\n",
        "df = results[:overlapping].output\n",
        "df = df[df.n .== maximum(df.n),:]\n",
        "gdf = groupby(df, [:generator, :model, :n, :name, :scope])\n",
        "df_plot = combine(gdf, :value => (x -> [(mean(x),mean(x)+std(x),mean(x)-std(x))]) => [:mean, :ymax, :ymin])\n",
        "df_plot = df_plot[[name in [:mmd, :mmd_grid, :model_performance] for name in df_plot.name],:]\n",
        "df_plot = df_plot[.!(df_plot.name.==:mmd .&& df_plot.scope.==:model),:]\n",
        "df_plot = mapcols(x -> typeof(x) == Vector{Symbol} ? string.(x) : x, df_plot)\n",
        "transform!(df_plot, :name => (X -> [x==\"mmd\" ? \"MMD (domain)\" : x for x in X]) => :name)\n",
        "transform!(df_plot, :name => (X -> [x==\"mmd_grid\" ? \"MMD (model)\" : x for x in X]) => :name)\n",
        "transform!(df_plot, :name => (X -> [x==\"model_performance\" ? \"Performance\" : x for x in X]) => :name)\n",
        "transform!(df_plot, :generator => (X -> [x==\"Generic\" ? \"Generic (γ=0.5)\" : x for x in X]) => :generator)\n",
        "transform!(df_plot, :generator => (X -> [x==\"Generic_conservative\" ? \"Generic (γ=0.9)\" : x for x in X]) => :generator)\n",
        "transform!(df_plot, :model => (X -> [x==\"FluxEnsemble\" ? \"Deep Ensemble\" : x for x in X]) => :model)\n",
        "transform!(df_plot, :model => (X -> [x==\"FluxModel\" ? \"MLP\" : x for x in X]) => :model)\n",
        "transform!(df_plot, :model => (X -> [x==\"LogisticRegression\" ? \"Linear\" : x for x in X]) => :model)\n",
        "\n",
        "ncol = length(unique(df_plot.model))\n",
        "nrow = length(unique(df_plot.name))\n",
        "\n",
        "using RCall\n",
        "scale_ = 2.0\n",
        "R\"\"\"\n",
        "library(data.table)\n",
        "df_plot <- data.table($df_plot)\n",
        "model_order <- c(\"Linear\", \"MLP\", \"Deep Ensemble\")\n",
        "df_plot[,model:=factor(model, levels=model_order)]\n",
        "library(ggplot2)\n",
        "plt <- ggplot($df_plot) +\n",
        "    geom_bar(aes(x=n, y=mean, fill=generator), stat=\"identity\", alpha=0.5, position=\"dodge\") +\n",
        "    geom_pointrange( aes(x=n, y=mean, ymin=ymin, ymax=ymax, colour=generator), alpha=0.9, position=position_dodge(width=0.9), size=0.5) +\n",
        "    facet_grid(\n",
        "        rows = vars(name),\n",
        "        cols =  vars(model), \n",
        "        scales = \"free_y\"\n",
        "    ) +\n",
        "    labs(y = \"Value\") + \n",
        "    scale_fill_discrete(name=\"Generator:\") +\n",
        "    scale_colour_discrete(name=\"Generator:\") +\n",
        "    theme(\n",
        "        axis.title.x=element_blank(),\n",
        "        axis.text.x=element_blank(),\n",
        "        axis.ticks.x=element_blank(),\n",
        "        legend.position=\"bottom\"\n",
        "    ) +\n",
        "    guides(fill=guide_legend(ncol=3))\n",
        "temp_path <- file.path(tempdir(), \"plot.png\")\n",
        "ggsave(temp_path,width=$ncol * $scale_,height=$nrow * $scale_ * 0.8) \n",
        "\"\"\"\n",
        "\n",
        "img = Images.load(rcopy(R\"temp_path\"))\n",
        "Images.save(joinpath(www_path,\"paper_synthetic_results.png\"), img)"
      ],
      "id": "fd3c1f6c",
      "execution_count": null,
      "outputs": []
    },
    {
      "cell_type": "code",
      "metadata": {},
      "source": [
        "#| label: fig-mit-paper\n",
        "#| fig-cap: Chart in paper\n",
        "\n",
        "Images.load(joinpath(www_path,\"paper_synthetic_results.png\"))"
      ],
      "id": "fig-mit-paper",
      "execution_count": null,
      "outputs": []
    },
    {
      "cell_type": "markdown",
      "metadata": {},
      "source": [
        "#### Latent Space Search\n"
      ],
      "id": "db069a88"
    },
    {
      "cell_type": "code",
      "metadata": {},
      "source": [
        "generators = Dict(\n",
        "    :Latent=>GenericGenerator(decision_threshold=0.5),\n",
        "    :Latent_conservative=>GenericGenerator(decision_threshold=0.9),\n",
        "    :Gravitational=>GravitationalGenerator(),\n",
        "    :ClapROAR=>ClapROARGenerator()\n",
        ")"
      ],
      "id": "1028ebce",
      "execution_count": null,
      "outputs": []
    },
    {
      "cell_type": "code",
      "metadata": {},
      "source": [
        "experiments = set_up_experiments(data_sets,models,generators)"
      ],
      "id": "cc83f45b",
      "execution_count": null,
      "outputs": []
    },
    {
      "cell_type": "code",
      "metadata": {},
      "source": [
        "n_evals = 5\n",
        "n_rounds = 50\n",
        "evaluate_every = Int(round(n_rounds/n_evals))\n",
        "n_folds = 5\n",
        "T = 100\n",
        "using Serialization\n",
        "results = run_experiments(\n",
        "    experiments;\n",
        "    save_path=output_path,evaluate_every=evaluate_every,n_rounds=n_rounds, n_folds=n_folds, T=T\n",
        ")\n",
        "Serialization.serialize(joinpath(output_path,\"results_synthetic_latent.jls\"),results)"
      ],
      "id": "6c9bc30f",
      "execution_count": null,
      "outputs": []
    },
    {
      "cell_type": "code",
      "metadata": {},
      "source": [
        "using Serialization\n",
        "results = Serialization.deserialize(joinpath(output_path,\"results_synthetic_latent.jls\"))"
      ],
      "id": "2a3ca24f",
      "execution_count": null,
      "outputs": []
    },
    {
      "cell_type": "code",
      "metadata": {},
      "source": [
        "using Images\n",
        "line_charts = Dict()\n",
        "errorbar_charts = Dict()\n",
        "for (data_name, res) in results\n",
        "    plt = plot(res)\n",
        "    Images.save(joinpath(www_path, \"line_chart_latent_$(data_name).png\"), plt)\n",
        "    line_charts[data_name] = plt\n",
        "    plt = plot(res,maximum(res.output.n))\n",
        "    Images.save(joinpath(www_path, \"errorbar_chart_latent_$(data_name).png\"), plt)\n",
        "    errorbar_charts[data_name] = plt\n",
        "end"
      ],
      "id": "bcd439e9",
      "execution_count": null,
      "outputs": []
    },
    {
      "cell_type": "markdown",
      "metadata": {},
      "source": [
        "#### Plots\n",
        "\n",
        "##### Line Charts\n",
        "\n",
        "@fig-mit-line-latent shows the evolution of the evaluation metrics over the course of the experiment.\n"
      ],
      "id": "15e502a2"
    },
    {
      "cell_type": "code",
      "metadata": {},
      "source": [
        "#| fig-cap: Line Charts\n",
        "#| fig-subcap:\n",
        "#|   - Circles\n",
        "#|   - Linearly Separable\n",
        "#|   - Moons\n",
        "#|   - Overlapping\n",
        "#| layout-ncol: 1\n",
        "#| label: fig-mit-line-latent\n",
        "img_files = readdir(www_path)[contains.(readdir(www_path),\"line_chart\") .&& contains.(readdir(www_path),\"latent\")]\n",
        "img_files = joinpath.(www_path,img_files)\n",
        "for img in img_files\n",
        "    display(load(img))\n",
        "end"
      ],
      "id": "fig-mit-line-latent",
      "execution_count": null,
      "outputs": []
    },
    {
      "cell_type": "markdown",
      "metadata": {},
      "source": [
        "##### Error Bar Charts\n",
        "\n",
        "@fig-mit-error-latent shows the evaluation metrics at the end of the experiments.\n"
      ],
      "id": "f9236092"
    },
    {
      "cell_type": "code",
      "metadata": {},
      "source": [
        "#| fig-cap: Error Bar Charts\n",
        "#| fig-subcap:\n",
        "#|   - Circles\n",
        "#|   - Linearly Separable\n",
        "#|   - Moons\n",
        "#|   - Overlapping\n",
        "#| layout-ncol: 1\n",
        "#| label: fig-mit-error-latent\n",
        "img_files = readdir(www_path)[contains.(readdir(www_path),\"errorbar_chart\") .&& contains.(readdir(www_path),\"latent\")]\n",
        "img_files = joinpath.(www_path,img_files)\n",
        "for img in img_files\n",
        "    display(load(img))\n",
        "end"
      ],
      "id": "fig-mit-error-latent",
      "execution_count": null,
      "outputs": []
    },
    {
      "cell_type": "markdown",
      "metadata": {},
      "source": [
        "#### Bootstrap\n"
      ],
      "id": "4d9b231c"
    },
    {
      "cell_type": "code",
      "metadata": {},
      "source": [
        "n_bootstrap = 10\n",
        "df = run_bootstrap(results, n_bootstrap; filename=joinpath(output_path,\"bootstrap_latent.csv\"))"
      ],
      "id": "39a417f6",
      "execution_count": null,
      "outputs": []
    },
    {
      "cell_type": "markdown",
      "metadata": {},
      "source": [
        "#### Chart in paper\n",
        "\n",
        "@fig-mit-latent-paper shows the chart that went into the paper.\n"
      ],
      "id": "e3962771"
    },
    {
      "cell_type": "code",
      "metadata": {},
      "source": [
        "using DataFrames, Statistics\n",
        "df = results[:overlapping].output\n",
        "df = df[df.n .== maximum(df.n),:]\n",
        "gdf = groupby(df, [:generator, :model, :n, :name, :scope])\n",
        "df_plot = combine(gdf, :value => (x -> [(mean(x),mean(x)+std(x),mean(x)-std(x))]) => [:mean, :ymax, :ymin])\n",
        "df_plot = df_plot[[name in [:mmd, :mmd_grid, :model_performance] for name in df_plot.name],:]\n",
        "df_plot = df_plot[.!(df_plot.name.==:mmd .&& df_plot.scope.==:model),:]\n",
        "df_plot = mapcols(x -> typeof(x) == Vector{Symbol} ? string.(x) : x, df_plot)\n",
        "transform!(df_plot, :name => (X -> [x==\"mmd\" ? \"MMD (domain)\" : x for x in X]) => :name)\n",
        "transform!(df_plot, :name => (X -> [x==\"mmd_grid\" ? \"MMD (model)\" : x for x in X]) => :name)\n",
        "transform!(df_plot, :name => (X -> [x==\"model_performance\" ? \"Performance\" : x for x in X]) => :name)\n",
        "transform!(df_plot, :generator => (X -> [x==\"Latent\" ? \"Latent (γ=0.5)\" : x for x in X]) => :generator)\n",
        "transform!(df_plot, :generator => (X -> [x==\"Latent_conservative\" ? \"Latent (γ=0.9)\" : x for x in X]) => :generator)\n",
        "transform!(df_plot, :model => (X -> [x==\"FluxEnsemble\" ? \"Deep Ensemble\" : x for x in X]) => :model)\n",
        "transform!(df_plot, :model => (X -> [x==\"FluxModel\" ? \"MLP\" : x for x in X]) => :model)\n",
        "transform!(df_plot, :model => (X -> [x==\"LogisticRegression\" ? \"Linear\" : x for x in X]) => :model)\n",
        "\n",
        "ncol = length(unique(df_plot.model))\n",
        "nrow = length(unique(df_plot.name))\n",
        "\n",
        "using RCall\n",
        "scale_ = 1.9\n",
        "R\"\"\"\n",
        "library(data.table)\n",
        "df_plot <- data.table($df_plot)\n",
        "model_order <- c(\"Linear\", \"MLP\", \"Deep Ensemble\")\n",
        "df_plot[,model:=factor(model, levels=model_order)]\n",
        "library(ggplot2)\n",
        "plt <- ggplot($df_plot) +\n",
        "    geom_bar(aes(x=n, y=mean, fill=generator), stat=\"identity\", alpha=0.5, position=\"dodge\") +\n",
        "    geom_pointrange( aes(x=n, y=mean, ymin=ymin, ymax=ymax, colour=generator), alpha=0.9, position=position_dodge(width=0.9), size=0.5) +\n",
        "    facet_grid(\n",
        "        rows = vars(name),\n",
        "        cols =  vars(model), \n",
        "        scales = \"free_y\"\n",
        "    ) +\n",
        "    labs(y = \"Value\") + \n",
        "    scale_fill_discrete(name=\"Generator:\") +\n",
        "    scale_colour_discrete(name=\"Generator:\") +\n",
        "    theme(\n",
        "        axis.title.x=element_blank(),\n",
        "        axis.text.x=element_blank(),\n",
        "        axis.ticks.x=element_blank(),\n",
        "        legend.position=\"bottom\"\n",
        "    ) +\n",
        "    guides(fill=guide_legend(ncol=4))\n",
        "temp_path <- file.path(tempdir(), \"plot.png\")\n",
        "ggsave(temp_path,width=$ncol * $scale_,height=$nrow * $scale_ * 0.8) \n",
        "\"\"\"\n",
        "\n",
        "img = Images.load(rcopy(R\"temp_path\"))\n",
        "Images.save(joinpath(www_path,\"paper_synthetic_latent_results.png\"), img)"
      ],
      "id": "1ac504d7",
      "execution_count": null,
      "outputs": []
    },
    {
      "cell_type": "code",
      "metadata": {},
      "source": [
        "#| label: fig-mit-latent-paper\n",
        "#| fig-cap: Chart in paper\n",
        "\n",
        "Images.load(joinpath(www_path,\"paper_synthetic_latent_results.png\"))"
      ],
      "id": "fig-mit-latent-paper",
      "execution_count": null,
      "outputs": []
    },
    {
      "cell_type": "markdown",
      "metadata": {},
      "source": [
        "## Real World\n"
      ],
      "id": "f78ef56e"
    },
    {
      "cell_type": "code",
      "metadata": {},
      "source": [
        "generators = Dict(\n",
        "    :Generic=>GenericGenerator(decision_threshold=0.5),\n",
        "    :Latent=>REVISEGenerator(),\n",
        "    :Generic_conservative=>GenericGenerator(decision_threshold=0.9),\n",
        "    :Gravitational=>GravitationalGenerator(),\n",
        "    :ClapROAR=>ClapROARGenerator()\n",
        ")"
      ],
      "id": "f8237493",
      "execution_count": null,
      "outputs": []
    },
    {
      "cell_type": "code",
      "metadata": {},
      "source": [
        "max_obs = 2500\n",
        "data_path = data_dir(\"real_world\")\n",
        "data_sets = AlgorithmicRecourseDynamics.Data.load_real_world(max_obs; data_dir=data_path)\n",
        "choices = [\n",
        "    :cal_housing, \n",
        "    :credit_default, \n",
        "    :gmsc, \n",
        "]\n",
        "data_sets = filter(p -> p[1] in choices, data_sets)"
      ],
      "id": "7639a4c8",
      "execution_count": null,
      "outputs": []
    },
    {
      "cell_type": "code",
      "metadata": {},
      "source": [
        "using CounterfactualExplanations.DataPreprocessing: unpack\n",
        "bs = 500\n",
        "function data_loader(data::CounterfactualData)\n",
        "    X, y = unpack(data)\n",
        "    data = Flux.DataLoader((X,y),batchsize=bs)\n",
        "    return data\n",
        "end\n",
        "model_params = (batch_norm=false,n_hidden=64,n_layers=3,dropout=true,p_dropout=0.1)"
      ],
      "id": "0e77876d",
      "execution_count": null,
      "outputs": []
    },
    {
      "cell_type": "code",
      "metadata": {},
      "source": [
        "experiments = set_up_experiments(\n",
        "    data_sets,models,generators; \n",
        "    pre_train_models=100, model_params=model_params, \n",
        "    data_loader=data_loader\n",
        ")"
      ],
      "id": "0afb90d3",
      "execution_count": null,
      "outputs": []
    },
    {
      "cell_type": "code",
      "metadata": {},
      "source": [
        "n_evals = 5\n",
        "n_rounds = 50\n",
        "evaluate_every = Int(round(n_rounds/n_evals))\n",
        "n_folds = 5\n",
        "n_samples = 10000\n",
        "T = 100\n",
        "generative_model_params = (epochs=250, latent_dim=8)\n",
        "results = run_experiments(\n",
        "    experiments;\n",
        "    save_path=output_path,evaluate_every=evaluate_every,n_rounds=n_rounds, n_folds=n_folds, T=T, n_samples=n_samples,\n",
        "    generative_model_params=generative_model_params\n",
        ")\n",
        "Serialization.serialize(joinpath(output_path,\"results_real_world.jls\"),results)"
      ],
      "id": "be613f4b",
      "execution_count": null,
      "outputs": []
    },
    {
      "cell_type": "code",
      "metadata": {},
      "source": [
        "using Serialization\n",
        "results = Serialization.deserialize(joinpath(output_path,\"results_real_world.jls\"))"
      ],
      "id": "61e90876",
      "execution_count": null,
      "outputs": []
    },
    {
      "cell_type": "code",
      "metadata": {},
      "source": [
        "using Images\n",
        "line_charts = Dict()\n",
        "errorbar_charts = Dict()\n",
        "for (data_name, res) in results\n",
        "    plt = plot(res)\n",
        "    Images.save(joinpath(www_path, \"line_chart_$(data_name).png\"), plt)\n",
        "    line_charts[data_name] = plt\n",
        "    plt = plot(res,maximum(res.output.n))\n",
        "    Images.save(joinpath(www_path, \"errorbar_chart_$(data_name).png\"), plt)\n",
        "    errorbar_charts[data_name] = plt\n",
        "end"
      ],
      "id": "dc0aa588",
      "execution_count": null,
      "outputs": []
    },
    {
      "cell_type": "markdown",
      "metadata": {},
      "source": [
        "#### Bootstrap\n"
      ],
      "id": "79783008"
    },
    {
      "cell_type": "code",
      "metadata": {},
      "source": [
        "n_bootstrap = 10\n",
        "df = run_bootstrap(results, n_bootstrap; filename=joinpath(output_path,\"bootstrap_real_world.csv\"))"
      ],
      "id": "bb932173",
      "execution_count": null,
      "outputs": []
    },
    {
      "cell_type": "markdown",
      "metadata": {},
      "source": [
        "#### Chart in paper\n",
        "\n",
        "@fig-mit-latent-paper shows the chart that went into the paper.\n"
      ],
      "id": "e21656f4"
    },
    {
      "cell_type": "code",
      "metadata": {},
      "source": [
        "using DataFrames, Statistics\n",
        "model_ = :FluxEnsemble\n",
        "df = DataFrame() \n",
        "for (key, val) in results\n",
        "    df_ = deepcopy(val.output)\n",
        "    df_.dataset .= key\n",
        "    df = vcat(df,df_)\n",
        "end\n",
        "df = df[df.n .== maximum(df.n),:]\n",
        "df = df[df.model .== model_,:]\n",
        "filter!(:value => x -> !any(f -> f(x), (ismissing, isnothing, isnan)), df)\n",
        "gdf = groupby(df, [:generator, :dataset, :n, :name, :scope])\n",
        "df_plot = combine(gdf, :value => (x -> [(mean(x),mean(x)+std(x),mean(x)-std(x))]) => [:mean, :ymax, :ymin])\n",
        "df_plot = df_plot[[name in [:mmd, :model_performance] for name in df_plot.name],:]\n",
        "df_plot = df_plot[.!(df_plot.name.==:mmd .&& df_plot.scope.!=:model),:]\n",
        "df_plot = mapcols(x -> typeof(x) == Vector{Symbol} ? string.(x) : x, df_plot)\n",
        "transform!(df_plot, :dataset => (X -> [x==\"cal_housing\" ? \"California Housing\" : x for x in X]) => :dataset)\n",
        "transform!(df_plot, :dataset => (X -> [x==\"credit_default\" ? \"Credit Default\" : x for x in X]) => :dataset)\n",
        "transform!(df_plot, :dataset => (X -> [x==\"gmsc\" ? \"GMSC\" : x for x in X]) => :dataset)\n",
        "transform!(df_plot, :name => (X -> [x==\"mmd\" ? \"MMD (model)\" : x for x in X]) => :name)\n",
        "transform!(df_plot, :name => (X -> [x==\"model_performance\" ? \"Performance\" : x for x in X]) => :name)\n",
        "transform!(df_plot, :generator => (X -> [x==\"Generic\" ? \"Generic (γ=0.5)\" : x for x in X]) => :generator)\n",
        "transform!(df_plot, :generator => (X -> [x==\"Generic_conservative\" ? \"Generic (γ=0.9)\" : x for x in X]) => :generator)\n",
        "\n",
        "ncol = length(unique(df_plot.dataset))\n",
        "nrow = length(unique(df_plot.name))\n",
        "\n",
        "using RCall\n",
        "scale_ = 2.0\n",
        "R\"\"\"\n",
        "library(ggplot2)\n",
        "plt <- ggplot($df_plot) +\n",
        "    geom_bar(aes(x=n, y=mean, fill=generator), stat=\"identity\", alpha=0.5, position=\"dodge\") +\n",
        "    geom_pointrange( aes(x=n, y=mean, ymin=ymin, ymax=ymax, colour=generator), alpha=0.9, position=position_dodge(width=0.9), size=0.5) +\n",
        "    facet_grid(\n",
        "        rows = vars(name),\n",
        "        cols =  vars(dataset), \n",
        "        scales = \"free_y\"\n",
        "    ) +\n",
        "    labs(y = \"Value\") + \n",
        "    scale_fill_discrete(name=\"Generator:\") +\n",
        "    scale_colour_discrete(name=\"Generator:\") +\n",
        "    theme(\n",
        "        axis.title.x=element_blank(),\n",
        "        axis.text.x=element_blank(),\n",
        "        axis.ticks.x=element_blank(),\n",
        "        legend.position=\"bottom\"\n",
        "    ) +\n",
        "    guides(fill=guide_legend(ncol=3))\n",
        "temp_path <- file.path(tempdir(), \"plot.png\")\n",
        "ggsave(temp_path,width=$ncol * $scale_,height=$nrow * $scale_ * 0.85) \n",
        "\"\"\"\n",
        "\n",
        "img = Images.load(rcopy(R\"temp_path\"))\n",
        "Images.save(joinpath(www_path,\"paper_real_world_results.png\"), img)"
      ],
      "id": "5b581f03",
      "execution_count": null,
      "outputs": []
    },
    {
      "cell_type": "code",
      "metadata": {},
      "source": [
        "#| label: fig-mit-real-paper\n",
        "#| fig-cap: Chart in paper\n",
        "\n",
        "Images.load(joinpath(www_path,\"paper_real_world_results.png\"))"
      ],
      "id": "fig-mit-real-paper",
      "execution_count": null,
      "outputs": []
    }
  ],
  "metadata": {
    "kernelspec": {
      "name": "julia-1.8",
      "language": "julia",
      "display_name": "Julia 1.8.3"
    }
  },
  "nbformat": 4,
  "nbformat_minor": 5
}