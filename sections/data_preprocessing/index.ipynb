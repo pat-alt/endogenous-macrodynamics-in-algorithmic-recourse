{
  "cells": [
    {
      "cell_type": "raw",
      "metadata": {},
      "source": [
        "---\n",
        "title: Data Preprocessing\n",
        "---"
      ],
      "id": "54649004"
    },
    {
      "cell_type": "markdown",
      "metadata": {},
      "source": [
        "## Generating Synthetic Data\n"
      ],
      "id": "7870edd0"
    },
    {
      "cell_type": "code",
      "metadata": {},
      "source": [
        "#| echo: false\n",
        "\n",
        "include(\"src/setup.jl\")\n",
        "eval(setup)\n",
        "output_path = output_dir(\"synthetic\") # output directory for artifacts\n",
        "www_path = www_dir(\"synthetic\")       # output directory for images\n",
        "data_path = data_dir(\"synthetic\")"
      ],
      "id": "21940666",
      "execution_count": null,
      "outputs": []
    },
    {
      "cell_type": "code",
      "metadata": {},
      "source": [
        "n = 1000\n",
        "p = 2\n",
        "\n",
        "# Linearly separable:\n",
        "X, y = make_blobs(n, p; centers=2, center_box=(-2 => 2), cluster_std=0.1)\n",
        "df = DataFrame(X)\n",
        "df.target .= ifelse.(y.==1,0,1)\n",
        "CSV.write(joinpath(data_path, \"linearly_separable.csv\"),df)\n",
        "\n",
        "# Overlapping:\n",
        "X, y = make_blobs(n, p; centers=2, center_box=(-2 => 2), cluster_std=0.5)\n",
        "df = DataFrame(X)\n",
        "df.target .= ifelse.(y.==1,0,1)\n",
        "CSV.write(joinpath(data_path, \"overlapping.csv\"),df)\n",
        "\n",
        "# Circles:\n",
        "X, y = make_circles(n; noise=0.15, factor=0.01)\n",
        "df = DataFrame(X)\n",
        "df.target = y\n",
        "CSV.write(joinpath(data_path, \"circles.csv\"),df)\n",
        "\n",
        "# Moon:\n",
        "X, y = make_moons(n)\n",
        "df = DataFrame(X)\n",
        "df.target = y\n",
        "CSV.write(joinpath(data_path, \"moons.csv\"),df)"
      ],
      "id": "49379600",
      "execution_count": null,
      "outputs": []
    },
    {
      "cell_type": "code",
      "metadata": {},
      "source": [
        "generate_artifacts(data_path)"
      ],
      "id": "71037c87",
      "execution_count": null,
      "outputs": []
    },
    {
      "cell_type": "code",
      "metadata": {},
      "source": [
        "#| output: true\n",
        "\n",
        "catalogue = load_synthetic()\n",
        "function plot_data(data,title)\n",
        "    plt = plot(title=uppercasefirst(replace(string(title),\"_\" => \" \")))\n",
        "    scatter!(data)\n",
        "    return plt\n",
        "end\n",
        "plts = [plot_data(data,name) for (name, data) in catalogue]\n",
        "plt = plot(plts..., layout=(1,4), size=(850,200))\n",
        "savefig(plt, \"paper/www/synthetic_data.png\")\n",
        "display(plt)"
      ],
      "id": "ae9a2369",
      "execution_count": null,
      "outputs": []
    },
    {
      "cell_type": "markdown",
      "metadata": {},
      "source": [
        "## Preprocessing Real-World Data\n"
      ],
      "id": "97304586"
    },
    {
      "cell_type": "code",
      "metadata": {},
      "source": [
        "#| echo: false\n",
        "\n",
        "include(\"src/setup.jl\")\n",
        "eval(setup)\n",
        "output_path = output_dir(\"real_world\")\n",
        "www_path = www_dir(\"real_world\")\n",
        "data_path = data_dir(\"real_world\")"
      ],
      "id": "55c22a6e",
      "execution_count": null,
      "outputs": []
    },
    {
      "cell_type": "markdown",
      "metadata": {},
      "source": [
        "### California Housing Data\n",
        "\n",
        "Fetching the data using Python's `sklearn` (run this in the Python REPL):\n",
        "\n",
        "```python\n",
        "from sklearn.datasets import fetch_california_housing\n",
        "df, y = fetch_california_housing(return_X_y=True, as_frame=True)\n",
        "df[\"target\"] = y.values\n",
        "data_path = \"dev/artifacts/upload/data/real_world\"\n",
        "import os\n",
        "if not os.path.isdir(os.path.join(data_path,\"raw\")):\n",
        "    os.makedirs(os.path.join(data_path,\"raw\"))\n",
        "df.to_csv(os.path.join(data_path,\"raw/cal_housing.csv\"), index=False)\n",
        "```\n",
        "\n",
        "Loading the data into Julia session. \n"
      ],
      "id": "b6473f20"
    },
    {
      "cell_type": "code",
      "metadata": {},
      "source": [
        "df = CSV.read(joinpath(data_path, \"raw/cal_housing.csv\"), DataFrame)\n",
        "# Target:\n",
        "y = df.target\n",
        "y = Float64.(y .>= median(y)); # binary target (positive outcome)\n",
        "# Data:\n",
        "df.target = y"
      ],
      "id": "0d8f302c",
      "execution_count": null,
      "outputs": []
    },
    {
      "cell_type": "markdown",
      "metadata": {},
      "source": [
        "Random undersampling to balance the data:\n"
      ],
      "id": "77b0e688"
    },
    {
      "cell_type": "code",
      "metadata": {},
      "source": [
        "df_balanced = getobs(undersample(df, df.target; shuffle=true))[1]"
      ],
      "id": "18c5db09",
      "execution_count": null,
      "outputs": []
    },
    {
      "cell_type": "markdown",
      "metadata": {},
      "source": [
        "All features are continuous:\n"
      ],
      "id": "29997e6f"
    },
    {
      "cell_type": "code",
      "metadata": {},
      "source": [
        "#| output: true\n",
        "\n",
        "schema(df_balanced)"
      ],
      "id": "796e8586",
      "execution_count": null,
      "outputs": []
    },
    {
      "cell_type": "markdown",
      "metadata": {},
      "source": [
        "Feature transformation:\n"
      ],
      "id": "e399b7e5"
    },
    {
      "cell_type": "code",
      "metadata": {},
      "source": [
        "#| output: true\n",
        "\n",
        "transformer = Standardizer(count=true)\n",
        "mach = MLJBase.fit!(machine(transformer, df_balanced[:,Not(:target)]))\n",
        "X = MLJBase.transform(mach, df_balanced[:,Not(:target)])\n",
        "schema(X)"
      ],
      "id": "9a8c18ff",
      "execution_count": null,
      "outputs": []
    },
    {
      "cell_type": "markdown",
      "metadata": {},
      "source": [
        "Turning the data into `CounterfactualData`:\n"
      ],
      "id": "054ccf54"
    },
    {
      "cell_type": "code",
      "metadata": {},
      "source": [
        "X = Matrix(X)\n",
        "X = permutedims(X)\n",
        "y = permutedims(df_balanced.target)\n",
        "data = CounterfactualData(X,y)"
      ],
      "id": "bd8c5062",
      "execution_count": null,
      "outputs": []
    },
    {
      "cell_type": "markdown",
      "metadata": {},
      "source": [
        "Saving the data:\n"
      ],
      "id": "945433a2"
    },
    {
      "cell_type": "code",
      "metadata": {},
      "source": [
        "CSV.write(joinpath(data_path, \"cal_housing.csv\"), df_balanced)              # binary file\n",
        "Serialization.serialize(joinpath(data_path,\"cal_housing.jls\"), data)        # CounterfactualData"
      ],
      "id": "aa5c1f70",
      "execution_count": null,
      "outputs": []
    },
    {
      "cell_type": "markdown",
      "metadata": {},
      "source": [
        "### Give Me Some Credit\n",
        "\n",
        "Loading and basic preprocessing:\n"
      ],
      "id": "2aadab27"
    },
    {
      "cell_type": "code",
      "metadata": {},
      "source": [
        "df = CSV.read(joinpath(data_path, \"raw/cs-training.csv\"), DataFrame)\n",
        "select!(df, Not([:Column1]))\n",
        "rename!(df, :SeriousDlqin2yrs => :target)\n",
        "mapcols!(x -> [ifelse(x_==\"NA\", missing, x_) for x_ in x], df)\n",
        "dropmissing!(df)\n",
        "mapcols!(x -> eltype(x) <: AbstractString ? parse.(Int, x) : x, df)\n",
        "df.target .= map(y -> y == 0 ? 1 : 0, df.target)        # postive outcome = no delinquency"
      ],
      "id": "891158c3",
      "execution_count": null,
      "outputs": []
    },
    {
      "cell_type": "markdown",
      "metadata": {},
      "source": [
        "Balancing:\n"
      ],
      "id": "4e8e20a1"
    },
    {
      "cell_type": "code",
      "metadata": {},
      "source": [
        "df_balanced = getobs(undersample(df, df.target;shuffle=true))[1]"
      ],
      "id": "45120e83",
      "execution_count": null,
      "outputs": []
    },
    {
      "cell_type": "markdown",
      "metadata": {},
      "source": [
        "All features are continuous:\n"
      ],
      "id": "d0a8262b"
    },
    {
      "cell_type": "code",
      "metadata": {},
      "source": [
        "schema(df_balanced)"
      ],
      "id": "0cfd320f",
      "execution_count": null,
      "outputs": []
    },
    {
      "cell_type": "markdown",
      "metadata": {},
      "source": [
        "Feature transformation:\n"
      ],
      "id": "6e9e6070"
    },
    {
      "cell_type": "code",
      "metadata": {},
      "source": [
        "transformer = Standardizer(count=true)\n",
        "mach = MLJBase.fit!(machine(transformer, df_balanced[:,Not(:target)]))\n",
        "X = MLJBase.transform(mach, df_balanced[:,Not(:target)])\n",
        "schema(X)"
      ],
      "id": "bd26a74c",
      "execution_count": null,
      "outputs": []
    },
    {
      "cell_type": "markdown",
      "metadata": {},
      "source": [
        "Turning the data into `CounterfactualData`:\n"
      ],
      "id": "d36f96f6"
    },
    {
      "cell_type": "code",
      "metadata": {},
      "source": [
        "X = Matrix(X)\n",
        "X = permutedims(X)\n",
        "y = permutedims(df_balanced.target)\n",
        "data = CounterfactualData(X,y)"
      ],
      "id": "b1ff4f2c",
      "execution_count": null,
      "outputs": []
    },
    {
      "cell_type": "markdown",
      "metadata": {},
      "source": [
        "Saving:\n"
      ],
      "id": "dc77cfe0"
    },
    {
      "cell_type": "code",
      "metadata": {},
      "source": [
        "CSV.write(joinpath(data_path, \"gmsc.csv\"), df_balanced)         # binary file\n",
        "Serialization.serialize(joinpath(data_path,\"gmsc.jls\"), data)   # CounterfactualData"
      ],
      "id": "6fef1e60",
      "execution_count": null,
      "outputs": []
    },
    {
      "cell_type": "markdown",
      "metadata": {},
      "source": [
        "### UCI Credit Card Default\n",
        "\n",
        "Loading and basic preprocessing:\n"
      ],
      "id": "2cb7593a"
    },
    {
      "cell_type": "code",
      "metadata": {},
      "source": [
        "df = CSV.read(joinpath(data_path, \"raw/UCI_Credit_Card.csv\"), DataFrame)\n",
        "select!(df, Not([:ID]))\n",
        "rename!(df, \"default.payment.next.month\" => :target)\n",
        "dropmissing!(df)\n",
        "df.SEX = categorical(df.SEX)\n",
        "df.EDUCATION = categorical(df.EDUCATION)\n",
        "df.MARRIAGE = categorical(df.MARRIAGE)\n",
        "mapcols!(x -> eltype(x) <: AbstractString ? parse.(Int, x) : x, df)\n",
        "df.target .= map(y -> y == 0 ? 1 : 0, df.target)        # postive outcome = no default"
      ],
      "id": "4e78e7b5",
      "execution_count": null,
      "outputs": []
    },
    {
      "cell_type": "markdown",
      "metadata": {},
      "source": [
        "Balancing:\n"
      ],
      "id": "9eace466"
    },
    {
      "cell_type": "code",
      "metadata": {},
      "source": [
        "df_balanced = getobs(undersample(df, df.target;shuffle=true))[1]"
      ],
      "id": "e07d7441",
      "execution_count": null,
      "outputs": []
    },
    {
      "cell_type": "markdown",
      "metadata": {},
      "source": [
        "**Not** all features are continuous:\n"
      ],
      "id": "72565777"
    },
    {
      "cell_type": "code",
      "metadata": {},
      "source": [
        "#| output: true\n",
        "\n",
        "schema(df_balanced)"
      ],
      "id": "9598e616",
      "execution_count": null,
      "outputs": []
    },
    {
      "cell_type": "markdown",
      "metadata": {},
      "source": [
        "Feature transformation:\n"
      ],
      "id": "10b73300"
    },
    {
      "cell_type": "code",
      "metadata": {},
      "source": [
        "#| output: true\n",
        "\n",
        "transformer = Standardizer(count=true) |> ContinuousEncoder()\n",
        "mach = MLJBase.fit!(machine(transformer, df_balanced[:,Not(:target)]))\n",
        "X = MLJBase.transform(mach, df_balanced[:,Not(:target)])\n",
        "schema(X)"
      ],
      "id": "2ef86413",
      "execution_count": null,
      "outputs": []
    },
    {
      "cell_type": "markdown",
      "metadata": {},
      "source": [
        "Categorical indices:\n"
      ],
      "id": "54953623"
    },
    {
      "cell_type": "code",
      "metadata": {},
      "source": [
        "features_categorical = [\n",
        "    [2,3],\n",
        "    collect(4:10),\n",
        "    collect(11:14)\n",
        "]"
      ],
      "id": "719c5b4b",
      "execution_count": null,
      "outputs": []
    },
    {
      "cell_type": "markdown",
      "metadata": {},
      "source": [
        "Preparing for use with `CounterfactualExplanations.jl`:\n"
      ],
      "id": "af989dcb"
    },
    {
      "cell_type": "code",
      "metadata": {},
      "source": [
        "X = Matrix(X)\n",
        "X = permutedims(X)\n",
        "y = permutedims(df_balanced.target)\n",
        "data = CounterfactualData(\n",
        "    X, y;\n",
        "    features_categorical = features_categorical\n",
        ")"
      ],
      "id": "ce2741da",
      "execution_count": null,
      "outputs": []
    },
    {
      "cell_type": "markdown",
      "metadata": {},
      "source": [
        "Saving:\n"
      ],
      "id": "14d67d68"
    },
    {
      "cell_type": "code",
      "metadata": {},
      "source": [
        "CSV.write(joinpath(data_path, \"credit_default.csv\"), df_balanced)         # binary file\n",
        "Serialization.serialize(joinpath(data_path,\"credit_default.jls\"), data)   # CounterfactualData"
      ],
      "id": "71042270",
      "execution_count": null,
      "outputs": []
    },
    {
      "cell_type": "code",
      "metadata": {},
      "source": [
        "generate_artifacts(data_path)"
      ],
      "id": "38ec3721",
      "execution_count": null,
      "outputs": []
    }
  ],
  "metadata": {
    "kernelspec": {
      "name": "julia-1.8",
      "language": "julia",
      "display_name": "Julia 1.8.3"
    }
  },
  "nbformat": 4,
  "nbformat_minor": 5
}