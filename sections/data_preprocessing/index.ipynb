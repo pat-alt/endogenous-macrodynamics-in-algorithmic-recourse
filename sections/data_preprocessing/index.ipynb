{
  "cells": [
    {
      "cell_type": "raw",
      "metadata": {},
      "source": [
        "---\n",
        "title: Data Preprocessing\n",
        "---"
      ],
      "id": "c773f5ae"
    },
    {
      "cell_type": "markdown",
      "metadata": {},
      "source": [
        "## Generating Synthetic Data\n"
      ],
      "id": "61d00c2e"
    },
    {
      "cell_type": "code",
      "metadata": {},
      "source": [
        "#| echo: false\n",
        "\n",
        "include(\"src/setup.jl\")\n",
        "eval(setup)\n",
        "output_path = output_dir(\"synthetic\") # output directory for artifacts\n",
        "www_path = www_dir(\"synthetic\")       # output directory for images\n",
        "data_path = data_dir(\"synthetic\")"
      ],
      "id": "d616ab06",
      "execution_count": null,
      "outputs": []
    },
    {
      "cell_type": "code",
      "metadata": {},
      "source": [
        "n = 1000\n",
        "p = 2\n",
        "\n",
        "# Linearly separable:\n",
        "X, y = make_blobs(n, p; centers=2, center_box=(-2 => 2), cluster_std=0.1)\n",
        "df = DataFrame(X)\n",
        "df.target .= ifelse.(y.==1,0,1)\n",
        "CSV.write(joinpath(data_path, \"linearly_separable.csv\"),df)\n",
        "\n",
        "# Overlapping:\n",
        "X, y = make_blobs(n, p; centers=2, center_box=(-2 => 2), cluster_std=0.5)\n",
        "df = DataFrame(X)\n",
        "df.target .= ifelse.(y.==1,0,1)\n",
        "CSV.write(joinpath(data_path, \"overlapping.csv\"),df)\n",
        "\n",
        "# Circles:\n",
        "X, y = make_circles(n; noise=0.15, factor=0.01)\n",
        "df = DataFrame(X)\n",
        "df.target = y\n",
        "CSV.write(joinpath(data_path, \"circles.csv\"),df)\n",
        "\n",
        "# Moon:\n",
        "X, y = make_moons(n)\n",
        "df = DataFrame(X)\n",
        "df.target = y\n",
        "CSV.write(joinpath(data_path, \"moons.csv\"),df)"
      ],
      "id": "b833d7b6",
      "execution_count": null,
      "outputs": []
    },
    {
      "cell_type": "code",
      "metadata": {},
      "source": [
        "generate_artifacts(data_path)"
      ],
      "id": "71e4dc3d",
      "execution_count": null,
      "outputs": []
    },
    {
      "cell_type": "code",
      "metadata": {},
      "source": [
        "#| output: true\n",
        "\n",
        "catalogue = load_synthetic()\n",
        "function plot_data(data,title)\n",
        "    plt = plot(title=uppercasefirst(replace(string(title),\"_\" => \" \")))\n",
        "    scatter!(data)\n",
        "    return plt\n",
        "end\n",
        "plts = [plot_data(data,name) for (name, data) in catalogue]\n",
        "plt = plot(plts..., layout=(1,4), size=(850,200))\n",
        "savefig(plt, \"paper/www/synthetic_data.png\")\n",
        "display(plt)"
      ],
      "id": "2a4b1d8d",
      "execution_count": null,
      "outputs": []
    },
    {
      "cell_type": "markdown",
      "metadata": {},
      "source": [
        "## Preprocessing Real-World Data\n"
      ],
      "id": "cac1db14"
    },
    {
      "cell_type": "code",
      "metadata": {},
      "source": [
        "#| echo: false\n",
        "\n",
        "include(\"src/setup.jl\")\n",
        "eval(setup)\n",
        "output_path = output_dir(\"real_world\")\n",
        "www_path = www_dir(\"real_world\")\n",
        "data_path = data_dir(\"real_world\")"
      ],
      "id": "6f0796f3",
      "execution_count": null,
      "outputs": []
    },
    {
      "cell_type": "markdown",
      "metadata": {},
      "source": [
        "### California Housing Data\n",
        "\n",
        "Fetching the data using Python's `sklearn` (run this in the Python REPL):\n",
        "\n",
        "```python\n",
        "from sklearn.datasets import fetch_california_housing\n",
        "df, y = fetch_california_housing(return_X_y=True, as_frame=True)\n",
        "df[\"target\"] = y.values\n",
        "data_path = \"dev/artifacts/upload/data/real_world\"\n",
        "import os\n",
        "if not os.path.isdir(os.path.join(data_path,\"raw\")):\n",
        "    os.makedirs(os.path.join(data_path,\"raw\"))\n",
        "df.to_csv(os.path.join(data_path,\"raw/cal_housing.csv\"), index=False)\n",
        "```\n",
        "\n",
        "Loading the data into Julia session. \n"
      ],
      "id": "dfb0d7f9"
    },
    {
      "cell_type": "code",
      "metadata": {},
      "source": [
        "df = CSV.read(joinpath(data_path, \"raw/cal_housing.csv\"), DataFrame)\n",
        "# Target:\n",
        "y = df.target\n",
        "y = Float64.(y .>= median(y)); # binary target (positive outcome)\n",
        "# Data:\n",
        "df.target = y"
      ],
      "id": "85f229d1",
      "execution_count": null,
      "outputs": []
    },
    {
      "cell_type": "markdown",
      "metadata": {},
      "source": [
        "Random undersampling to balance the data:\n"
      ],
      "id": "8e505ab7"
    },
    {
      "cell_type": "code",
      "metadata": {},
      "source": [
        "df_balanced = getobs(undersample(df, df.target; shuffle=true))[1]"
      ],
      "id": "d4c0ff65",
      "execution_count": null,
      "outputs": []
    },
    {
      "cell_type": "markdown",
      "metadata": {},
      "source": [
        "All features are continuous:\n"
      ],
      "id": "70f71a13"
    },
    {
      "cell_type": "code",
      "metadata": {},
      "source": [
        "#| output: true\n",
        "\n",
        "schema(df_balanced)"
      ],
      "id": "c20a7505",
      "execution_count": null,
      "outputs": []
    },
    {
      "cell_type": "markdown",
      "metadata": {},
      "source": [
        "Feature transformation:\n"
      ],
      "id": "b2721825"
    },
    {
      "cell_type": "code",
      "metadata": {},
      "source": [
        "#| output: true\n",
        "\n",
        "transformer = Standardizer(count=true)\n",
        "mach = MLJBase.fit!(machine(transformer, df_balanced[:,Not(:target)]))\n",
        "X = MLJBase.transform(mach, df_balanced[:,Not(:target)])\n",
        "schema(X)"
      ],
      "id": "354afe23",
      "execution_count": null,
      "outputs": []
    },
    {
      "cell_type": "markdown",
      "metadata": {},
      "source": [
        "Turning the data into `CounterfactualData`:\n"
      ],
      "id": "78d83258"
    },
    {
      "cell_type": "code",
      "metadata": {},
      "source": [
        "X = Matrix(X)\n",
        "X = permutedims(X)\n",
        "y = permutedims(df_balanced.target)\n",
        "data = CounterfactualData(X,y)"
      ],
      "id": "608829f3",
      "execution_count": null,
      "outputs": []
    },
    {
      "cell_type": "markdown",
      "metadata": {},
      "source": [
        "Saving the data:\n"
      ],
      "id": "8eb860d9"
    },
    {
      "cell_type": "code",
      "metadata": {},
      "source": [
        "CSV.write(joinpath(data_path, \"cal_housing.csv\"), df_balanced)              # binary file\n",
        "Serialization.serialize(joinpath(data_path,\"cal_housing.jls\"), data)        # CounterfactualData"
      ],
      "id": "e8a954a8",
      "execution_count": null,
      "outputs": []
    },
    {
      "cell_type": "markdown",
      "metadata": {},
      "source": [
        "### Give Me Some Credit\n",
        "\n",
        "Loading and basic preprocessing:\n"
      ],
      "id": "eb473550"
    },
    {
      "cell_type": "code",
      "metadata": {},
      "source": [
        "df = CSV.read(joinpath(data_path, \"raw/cs-training.csv\"), DataFrame)\n",
        "select!(df, Not([:Column1]))\n",
        "rename!(df, :SeriousDlqin2yrs => :target)\n",
        "mapcols!(x -> [ifelse(x_==\"NA\", missing, x_) for x_ in x], df)\n",
        "dropmissing!(df)\n",
        "mapcols!(x -> eltype(x) <: AbstractString ? parse.(Int, x) : x, df)\n",
        "df.target .= map(y -> y == 0 ? 1 : 0, df.target)        # postive outcome = no delinquency"
      ],
      "id": "3f20ce4c",
      "execution_count": null,
      "outputs": []
    },
    {
      "cell_type": "markdown",
      "metadata": {},
      "source": [
        "Balancing:\n"
      ],
      "id": "c6437c91"
    },
    {
      "cell_type": "code",
      "metadata": {},
      "source": [
        "df_balanced = getobs(undersample(df, df.target;shuffle=true))[1]"
      ],
      "id": "b9cf9b8f",
      "execution_count": null,
      "outputs": []
    },
    {
      "cell_type": "markdown",
      "metadata": {},
      "source": [
        "All features are continuous:\n"
      ],
      "id": "19b8e7e5"
    },
    {
      "cell_type": "code",
      "metadata": {},
      "source": [
        "schema(df_balanced)"
      ],
      "id": "385dc2b0",
      "execution_count": null,
      "outputs": []
    },
    {
      "cell_type": "markdown",
      "metadata": {},
      "source": [
        "Feature transformation:\n"
      ],
      "id": "31b8ca56"
    },
    {
      "cell_type": "code",
      "metadata": {},
      "source": [
        "transformer = Standardizer(count=true)\n",
        "mach = MLJBase.fit!(machine(transformer, df_balanced[:,Not(:target)]))\n",
        "X = MLJBase.transform(mach, df_balanced[:,Not(:target)])\n",
        "schema(X)"
      ],
      "id": "a351f088",
      "execution_count": null,
      "outputs": []
    },
    {
      "cell_type": "markdown",
      "metadata": {},
      "source": [
        "Turning the data into `CounterfactualData`:\n"
      ],
      "id": "0fc66b68"
    },
    {
      "cell_type": "code",
      "metadata": {},
      "source": [
        "X = Matrix(X)\n",
        "X = permutedims(X)\n",
        "y = permutedims(df_balanced.target)\n",
        "data = CounterfactualData(X,y)"
      ],
      "id": "0f5fe51b",
      "execution_count": null,
      "outputs": []
    },
    {
      "cell_type": "markdown",
      "metadata": {},
      "source": [
        "Saving:\n"
      ],
      "id": "4ff18b6f"
    },
    {
      "cell_type": "code",
      "metadata": {},
      "source": [
        "CSV.write(joinpath(data_path, \"gmsc.csv\"), df_balanced)         # binary file\n",
        "Serialization.serialize(joinpath(data_path,\"gmsc.jls\"), data)   # CounterfactualData"
      ],
      "id": "a591ce8a",
      "execution_count": null,
      "outputs": []
    },
    {
      "cell_type": "markdown",
      "metadata": {},
      "source": [
        "### UCI Credit Card Default\n",
        "\n",
        "Loading and basic preprocessing:\n"
      ],
      "id": "bef4bf72"
    },
    {
      "cell_type": "code",
      "metadata": {},
      "source": [
        "df = CSV.read(joinpath(data_path, \"raw/UCI_Credit_Card.csv\"), DataFrame)\n",
        "select!(df, Not([:ID]))\n",
        "rename!(df, \"default.payment.next.month\" => :target)\n",
        "dropmissing!(df)\n",
        "df.SEX = categorical(df.SEX)\n",
        "df.EDUCATION = categorical(df.EDUCATION)\n",
        "df.MARRIAGE = categorical(df.MARRIAGE)\n",
        "mapcols!(x -> eltype(x) <: AbstractString ? parse.(Int, x) : x, df)\n",
        "df.target .= map(y -> y == 0 ? 1 : 0, df.target)        # postive outcome = no default"
      ],
      "id": "19589c07",
      "execution_count": null,
      "outputs": []
    },
    {
      "cell_type": "markdown",
      "metadata": {},
      "source": [
        "Balancing:\n"
      ],
      "id": "eacb56e1"
    },
    {
      "cell_type": "code",
      "metadata": {},
      "source": [
        "df_balanced = getobs(undersample(df, df.target;shuffle=true))[1]"
      ],
      "id": "b6379b5d",
      "execution_count": null,
      "outputs": []
    },
    {
      "cell_type": "markdown",
      "metadata": {},
      "source": [
        "**Not** all features are continuous:\n"
      ],
      "id": "dd230746"
    },
    {
      "cell_type": "code",
      "metadata": {},
      "source": [
        "#| output: true\n",
        "\n",
        "schema(df_balanced)"
      ],
      "id": "1f867748",
      "execution_count": null,
      "outputs": []
    },
    {
      "cell_type": "markdown",
      "metadata": {},
      "source": [
        "Feature transformation:\n"
      ],
      "id": "31cbf4c9"
    },
    {
      "cell_type": "code",
      "metadata": {},
      "source": [
        "#| output: true\n",
        "\n",
        "transformer = Standardizer(count=true) |> ContinuousEncoder()\n",
        "mach = MLJBase.fit!(machine(transformer, df_balanced[:,Not(:target)]))\n",
        "X = MLJBase.transform(mach, df_balanced[:,Not(:target)])\n",
        "schema(X)"
      ],
      "id": "6840c843",
      "execution_count": null,
      "outputs": []
    },
    {
      "cell_type": "markdown",
      "metadata": {},
      "source": [
        "Categorical indices:\n"
      ],
      "id": "651562f9"
    },
    {
      "cell_type": "code",
      "metadata": {},
      "source": [
        "features_categorical = [\n",
        "    [2,3],\n",
        "    collect(4:10),\n",
        "    collect(11:14)\n",
        "]"
      ],
      "id": "b9d0b2dd",
      "execution_count": null,
      "outputs": []
    },
    {
      "cell_type": "markdown",
      "metadata": {},
      "source": [
        "Preparing for use with `CounterfactualExplanations.jl`:\n"
      ],
      "id": "6c09e949"
    },
    {
      "cell_type": "code",
      "metadata": {},
      "source": [
        "X = Matrix(X)\n",
        "X = permutedims(X)\n",
        "y = permutedims(df_balanced.target)\n",
        "data = CounterfactualData(\n",
        "    X, y;\n",
        "    features_categorical = features_categorical\n",
        ")"
      ],
      "id": "99ee56e6",
      "execution_count": null,
      "outputs": []
    },
    {
      "cell_type": "markdown",
      "metadata": {},
      "source": [
        "Saving:\n"
      ],
      "id": "f82cf005"
    },
    {
      "cell_type": "code",
      "metadata": {},
      "source": [
        "CSV.write(joinpath(data_path, \"credit_default.csv\"), df_balanced)         # binary file\n",
        "Serialization.serialize(joinpath(data_path,\"credit_default.jls\"), data)   # CounterfactualData"
      ],
      "id": "297c860f",
      "execution_count": null,
      "outputs": []
    },
    {
      "cell_type": "code",
      "metadata": {},
      "source": [
        "generate_artifacts(data_path)"
      ],
      "id": "d6c80291",
      "execution_count": null,
      "outputs": []
    }
  ],
  "metadata": {
    "kernelspec": {
      "name": "julia-1.8",
      "language": "julia",
      "display_name": "Julia 1.8.5"
    }
  },
  "nbformat": 4,
  "nbformat_minor": 5
}